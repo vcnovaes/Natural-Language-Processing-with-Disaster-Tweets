{
 "cells": [
  {
   "cell_type": "code",
   "execution_count": 26,
   "metadata": {},
   "outputs": [],
   "source": [
    "%matplotlib inline \n",
    "import pandas as pd\n",
    "import matplotlib.pyplot as plt\n",
    "import seaborn as sns "
   ]
  },
  {
   "cell_type": "code",
   "execution_count": 34,
   "metadata": {},
   "outputs": [
    {
     "data": {
      "text/html": [
       "<div>\n",
       "<style scoped>\n",
       "    .dataframe tbody tr th:only-of-type {\n",
       "        vertical-align: middle;\n",
       "    }\n",
       "\n",
       "    .dataframe tbody tr th {\n",
       "        vertical-align: top;\n",
       "    }\n",
       "\n",
       "    .dataframe thead th {\n",
       "        text-align: right;\n",
       "    }\n",
       "</style>\n",
       "<table border=\"1\" class=\"dataframe\">\n",
       "  <thead>\n",
       "    <tr style=\"text-align: right;\">\n",
       "      <th></th>\n",
       "      <th>keyword</th>\n",
       "      <th>text</th>\n",
       "      <th>target</th>\n",
       "    </tr>\n",
       "  </thead>\n",
       "  <tbody>\n",
       "    <tr>\n",
       "      <th>0</th>\n",
       "      <td>emergency%20services</td>\n",
       "      <td>Goulburn man Henry Van Bilsen missing: Emergen...</td>\n",
       "      <td>1</td>\n",
       "    </tr>\n",
       "    <tr>\n",
       "      <th>1</th>\n",
       "      <td>fear</td>\n",
       "      <td>The things we fear most in organizations--fluc...</td>\n",
       "      <td>0</td>\n",
       "    </tr>\n",
       "    <tr>\n",
       "      <th>2</th>\n",
       "      <td>tsunami</td>\n",
       "      <td>@tsunami_esh ?? hey Esh</td>\n",
       "      <td>0</td>\n",
       "    </tr>\n",
       "    <tr>\n",
       "      <th>3</th>\n",
       "      <td>drown</td>\n",
       "      <td>@POTUS you until you drown by water entering t...</td>\n",
       "      <td>0</td>\n",
       "    </tr>\n",
       "    <tr>\n",
       "      <th>4</th>\n",
       "      <td>wounds</td>\n",
       "      <td>Crawling in my skin\\nThese wounds they will no...</td>\n",
       "      <td>1</td>\n",
       "    </tr>\n",
       "  </tbody>\n",
       "</table>\n",
       "</div>"
      ],
      "text/plain": [
       "                keyword                                               text  \\\n",
       "0  emergency%20services  Goulburn man Henry Van Bilsen missing: Emergen...   \n",
       "1                  fear  The things we fear most in organizations--fluc...   \n",
       "2               tsunami                            @tsunami_esh ?? hey Esh   \n",
       "3                 drown  @POTUS you until you drown by water entering t...   \n",
       "4                wounds  Crawling in my skin\\nThese wounds they will no...   \n",
       "\n",
       "   target  \n",
       "0       1  \n",
       "1       0  \n",
       "2       0  \n",
       "3       0  \n",
       "4       1  "
      ]
     },
     "execution_count": 34,
     "metadata": {},
     "output_type": "execute_result"
    }
   ],
   "source": [
    "train_data = pd.read_csv('Data/train_data.csv',index_col='index').reset_index() \n",
    "train_data.drop(columns='index',inplace=True) \n",
    "train_data.head() "
   ]
  },
  {
   "cell_type": "markdown",
   "metadata": {},
   "source": [
    "Treating letters case and ponctuation"
   ]
  },
  {
   "cell_type": "code",
   "execution_count": 35,
   "metadata": {},
   "outputs": [
    {
     "name": "stderr",
     "output_type": "stream",
     "text": [
      "/tmp/ipykernel_42792/2207780189.py:1: FutureWarning: The default value of regex will change from True to False in a future version.\n",
      "  train_data['text'] = train_data['text'].str.replace('\\W',' ')\n"
     ]
    }
   ],
   "source": [
    "train_data['text'] = train_data['text'].str.replace('\\W',' ')\n",
    "train_data['text'] = train_data['text'].str.lower() \n"
   ]
  },
  {
   "cell_type": "code",
   "execution_count": 36,
   "metadata": {},
   "outputs": [
    {
     "data": {
      "text/html": [
       "<div>\n",
       "<style scoped>\n",
       "    .dataframe tbody tr th:only-of-type {\n",
       "        vertical-align: middle;\n",
       "    }\n",
       "\n",
       "    .dataframe tbody tr th {\n",
       "        vertical-align: top;\n",
       "    }\n",
       "\n",
       "    .dataframe thead th {\n",
       "        text-align: right;\n",
       "    }\n",
       "</style>\n",
       "<table border=\"1\" class=\"dataframe\">\n",
       "  <thead>\n",
       "    <tr style=\"text-align: right;\">\n",
       "      <th></th>\n",
       "      <th>keyword</th>\n",
       "      <th>text</th>\n",
       "      <th>target</th>\n",
       "    </tr>\n",
       "  </thead>\n",
       "  <tbody>\n",
       "    <tr>\n",
       "      <th>0</th>\n",
       "      <td>emergency%20services</td>\n",
       "      <td>goulburn man henry van bilsen missing  emergen...</td>\n",
       "      <td>1</td>\n",
       "    </tr>\n",
       "    <tr>\n",
       "      <th>1</th>\n",
       "      <td>fear</td>\n",
       "      <td>the things we fear most in organizations  fluc...</td>\n",
       "      <td>0</td>\n",
       "    </tr>\n",
       "    <tr>\n",
       "      <th>2</th>\n",
       "      <td>tsunami</td>\n",
       "      <td>tsunami_esh    hey esh</td>\n",
       "      <td>0</td>\n",
       "    </tr>\n",
       "    <tr>\n",
       "      <th>3</th>\n",
       "      <td>drown</td>\n",
       "      <td>potus you until you drown by water entering t...</td>\n",
       "      <td>0</td>\n",
       "    </tr>\n",
       "    <tr>\n",
       "      <th>4</th>\n",
       "      <td>wounds</td>\n",
       "      <td>crawling in my skin these wounds they will not...</td>\n",
       "      <td>1</td>\n",
       "    </tr>\n",
       "  </tbody>\n",
       "</table>\n",
       "</div>"
      ],
      "text/plain": [
       "                keyword                                               text  \\\n",
       "0  emergency%20services  goulburn man henry van bilsen missing  emergen...   \n",
       "1                  fear  the things we fear most in organizations  fluc...   \n",
       "2               tsunami                             tsunami_esh    hey esh   \n",
       "3                 drown   potus you until you drown by water entering t...   \n",
       "4                wounds  crawling in my skin these wounds they will not...   \n",
       "\n",
       "   target  \n",
       "0       1  \n",
       "1       0  \n",
       "2       0  \n",
       "3       0  \n",
       "4       1  "
      ]
     },
     "execution_count": 36,
     "metadata": {},
     "output_type": "execute_result"
    }
   ],
   "source": [
    "train_data.head()"
   ]
  },
  {
   "cell_type": "markdown",
   "metadata": {},
   "source": [
    "Splitting our text and adding to our dict"
   ]
  },
  {
   "cell_type": "code",
   "execution_count": 37,
   "metadata": {},
   "outputs": [
    {
     "name": "stdout",
     "output_type": "stream",
     "text": [
      "0       [goulburn, man, henry, van, bilsen, missing, e...\n",
      "1       [the, things, we, fear, most, in, organization...\n",
      "2                                 [tsunami_esh, hey, esh]\n",
      "3       [potus, you, until, you, drown, by, water, ent...\n",
      "4       [crawling, in, my, skin, these, wounds, they, ...\n",
      "                              ...                        \n",
      "6085              [justinbieber, arianagrande, screaming]\n",
      "6086    [how, to, survive, in, the, markets, http, t, ...\n",
      "6087    [look, at, them, ayhoka_, co, happy, bn, too, ...\n",
      "6088    [waseembadami, condemning, of, deaths, more, t...\n",
      "6089    [thelegendblue, cozmo23, they, ll, probably, a...\n",
      "Name: text, Length: 6090, dtype: object\n"
     ]
    }
   ],
   "source": [
    "train_data['text'] = train_data['text'].str.split() \n",
    "print(train_data['text'])\n"
   ]
  },
  {
   "cell_type": "code",
   "execution_count": 43,
   "metadata": {},
   "outputs": [],
   "source": [
    "remove_small_words = lambda l : [ i for i in l if len(i)>3 or i == 'die']"
   ]
  },
  {
   "cell_type": "code",
   "execution_count": 44,
   "metadata": {},
   "outputs": [
    {
     "data": {
      "text/plain": [
       "['goulburn',\n",
       " 'henry',\n",
       " 'bilsen',\n",
       " 'missing',\n",
       " 'emergency',\n",
       " 'services',\n",
       " 'searching',\n",
       " 'goulburn',\n",
       " 'disappeared',\n",
       " 'from',\n",
       " 'http',\n",
       " 'z99pkjztrp']"
      ]
     },
     "execution_count": 44,
     "metadata": {},
     "output_type": "execute_result"
    }
   ],
   "source": [
    "remove_small_words(train_data['text'].values.tolist()[0])"
   ]
  },
  {
   "cell_type": "code",
   "execution_count": 47,
   "metadata": {},
   "outputs": [],
   "source": [
    "train_data['text'] = train_data['text'].apply(remove_small_words)"
   ]
  },
  {
   "cell_type": "code",
   "execution_count": 52,
   "metadata": {},
   "outputs": [],
   "source": [
    "vocabulary= [ w for txt in train_data['text'].values.tolist() for w in txt]"
   ]
  },
  {
   "cell_type": "markdown",
   "metadata": {},
   "source": [
    "Counting words"
   ]
  },
  {
   "cell_type": "code",
   "execution_count": 53,
   "metadata": {},
   "outputs": [],
   "source": [
    "word_counts = { unique_word: [0]*len(train_data['text']) for unique_word in vocabulary}"
   ]
  },
  {
   "cell_type": "code",
   "execution_count": 55,
   "metadata": {},
   "outputs": [],
   "source": [
    "for index, txt in enumerate(train_data['text']):\n",
    "    for word in txt:\n",
    "        word_counts[word][index] += 1 "
   ]
  },
  {
   "cell_type": "code",
   "execution_count": 57,
   "metadata": {},
   "outputs": [],
   "source": [
    "word_counts = pd.DataFrame(word_counts)"
   ]
  },
  {
   "cell_type": "code",
   "execution_count": null,
   "metadata": {},
   "outputs": [],
   "source": []
  }
 ],
 "metadata": {
  "interpreter": {
   "hash": "b8abf314177e09d491ffeb76f18407c17dd57399bceea11d775887f9f21caad0"
  },
  "kernelspec": {
   "display_name": "Python 3.8.11 64-bit ('d2l': conda)",
   "name": "python3"
  },
  "language_info": {
   "codemirror_mode": {
    "name": "ipython",
    "version": 3
   },
   "file_extension": ".py",
   "mimetype": "text/x-python",
   "name": "python",
   "nbconvert_exporter": "python",
   "pygments_lexer": "ipython3",
   "version": "3.8.11"
  },
  "orig_nbformat": 4
 },
 "nbformat": 4,
 "nbformat_minor": 2
}

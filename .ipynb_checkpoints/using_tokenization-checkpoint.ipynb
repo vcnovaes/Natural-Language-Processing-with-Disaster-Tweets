{
 "cells": [
  {
   "cell_type": "code",
   "execution_count": 3,
   "id": "b47dbd6f-a13c-4e81-ac2f-5b2d19384c4d",
   "metadata": {},
   "outputs": [],
   "source": [
    "%matplotlib inline \n",
    "import pandas as pd\n",
    "import matplotlib.pyplot as plt\n",
    "import seaborn as sns \n",
    "import nltk\n",
    "from sklearn.feature_extraction.text import *"
   ]
  },
  {
   "cell_type": "code",
   "execution_count": 4,
   "id": "1912c79d-1b7d-44a9-8eb4-ce807170cbdc",
   "metadata": {},
   "outputs": [],
   "source": [
    "vectorizer = CountVectorizer() "
   ]
  },
  {
   "cell_type": "code",
   "execution_count": 6,
   "id": "5156fd3e-43d2-4743-905b-2edcd769d6bb",
   "metadata": {},
   "outputs": [],
   "source": [
    "train_data = pd.read_csv('Data/train_data.csv',index_col='index').reset_index() \n",
    "test_data = pd.read_csv('Data/test_data.csv', index_col='index')\n",
    "train_data.drop(columns='index',inplace=True) "
   ]
  },
  {
   "cell_type": "code",
   "execution_count": 14,
   "id": "c6e46886-988f-467e-9e77-79f2e1fe169e",
   "metadata": {},
   "outputs": [],
   "source": [
    "corpus = train_data['text'].tolist()"
   ]
  },
  {
   "cell_type": "code",
   "execution_count": 15,
   "id": "088ee5a1-8d96-48cb-9f06-869cd34404e6",
   "metadata": {},
   "outputs": [],
   "source": [
    "X = vectorizer.fit_transform(corpus)"
   ]
  },
  {
   "cell_type": "code",
   "execution_count": 16,
   "id": "f1473b38-87fc-4c15-8f65-bb5c8c860837",
   "metadata": {},
   "outputs": [],
   "source": [
    "analyzer = vectorizer.build_analyzer() "
   ]
  },
  {
   "cell_type": "code",
   "execution_count": 17,
   "id": "1c84646d-fdc8-4a68-9382-11558b3666dc",
   "metadata": {},
   "outputs": [],
   "source": [
    "tokenized_data = X.toarray() "
   ]
  },
  {
   "cell_type": "code",
   "execution_count": 18,
   "id": "38fc50b6-3a42-4377-9a4b-1fa9a82e4c2d",
   "metadata": {},
   "outputs": [
    {
     "data": {
      "text/plain": [
       "array([[0, 0, 0, ..., 0, 0, 0],\n",
       "       [0, 0, 0, ..., 0, 0, 0],\n",
       "       [0, 0, 0, ..., 0, 0, 0],\n",
       "       ...,\n",
       "       [0, 0, 0, ..., 0, 0, 0],\n",
       "       [0, 0, 0, ..., 0, 0, 0],\n",
       "       [0, 0, 0, ..., 0, 0, 0]])"
      ]
     },
     "execution_count": 18,
     "metadata": {},
     "output_type": "execute_result"
    }
   ],
   "source": [
    "tokenized_data"
   ]
  },
  {
   "cell_type": "code",
   "execution_count": null,
   "id": "5d627480-0af9-499e-a3be-9c827df1e9bc",
   "metadata": {},
   "outputs": [],
   "source": []
  }
 ],
 "metadata": {
  "kernelspec": {
   "display_name": "Python 3",
   "language": "python",
   "name": "python3"
  },
  "language_info": {
   "codemirror_mode": {
    "name": "ipython",
    "version": 3
   },
   "file_extension": ".py",
   "mimetype": "text/x-python",
   "name": "python",
   "nbconvert_exporter": "python",
   "pygments_lexer": "ipython3",
   "version": "3.8.8"
  }
 },
 "nbformat": 4,
 "nbformat_minor": 5
}

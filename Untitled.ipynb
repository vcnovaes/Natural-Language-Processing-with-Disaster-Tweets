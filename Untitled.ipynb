{
 "cells": [
  {
   "cell_type": "code",
   "execution_count": 457,
   "id": "c883bf98-cb69-46f5-844d-8e6f138cc81f",
   "metadata": {},
   "outputs": [],
   "source": [
    "import pandas as pd\n",
    "import numpy as np\n",
    "import random as rnd\n",
    "import matplotlib.pyplot as plt\n",
    "import nltk\n",
    "from functools import reduce\n",
    "from collections import OrderedDict\n"
   ]
  },
  {
   "cell_type": "code",
   "execution_count": 5,
   "id": "bbd3cd1e",
   "metadata": {},
   "outputs": [
    {
     "data": {
      "text/plain": [
       "<Figure size 432x288 with 0 Axes>"
      ]
     },
     "execution_count": 5,
     "metadata": {},
     "output_type": "execute_result"
    },
    {
     "data": {
      "text/plain": [
       "<Figure size 432x288 with 0 Axes>"
      ]
     },
     "metadata": {},
     "output_type": "display_data"
    }
   ],
   "source": [
    "plt.figure(facecolor='white')\n"
   ]
  },
  {
   "cell_type": "code",
   "execution_count": 300,
   "id": "7af9cf70-8e53-4ab9-a485-039cbba4b81e",
   "metadata": {},
   "outputs": [],
   "source": [
    "tr_data = pd.read_csv('Data/train_data.csv')\n"
   ]
  },
  {
   "cell_type": "code",
   "execution_count": 301,
   "id": "f66a8829-018e-4043-8b0f-d0188f789ce8",
   "metadata": {},
   "outputs": [],
   "source": [
    "tr_true = tr_data['text'][tr_data['target'] == 1]\n",
    "tr_false = tr_data['text'][tr_data['target'] == 0]\n"
   ]
  },
  {
   "cell_type": "code",
   "execution_count": 302,
   "id": "1e51795e",
   "metadata": {},
   "outputs": [],
   "source": [
    "tr_true = tr_true.map(lambda sentence: nltk.pos_tag(\n",
    "    nltk.word_tokenize(sentence)))\n",
    "tr_false = tr_false.map(\n",
    "    lambda sentence: nltk.pos_tag(nltk.word_tokenize(sentence)))\n"
   ]
  },
  {
   "cell_type": "code",
   "execution_count": 341,
   "id": "fd3e3daa-d76e-4389-8c86-fafea5b73178",
   "metadata": {},
   "outputs": [],
   "source": [
    "tst_data = pd.read_csv('Data/test_data.csv')\n",
    "tst_true = tst_data['text'][tst_data['target'] == 1]\n",
    "tst_false = tst_data['text'][tst_data['target'] == 0]\n",
    "test_tts = {'real_trag': tst_true.to_list(), 'not_trag': tst_false.to_list()}\n",
    "\n",
    "# retirar as palavras que aparecem menos do que duas vezes.\n"
   ]
  },
  {
   "cell_type": "code",
   "execution_count": 345,
   "id": "cb8d6eed",
   "metadata": {},
   "outputs": [],
   "source": [
    "def just_verbs(data: list, to_keep: set = {'VB', 'VBG', 'VBN', 'VBZ', 'VBP'}) -> list:\n",
    "    cl_data = []\n",
    "    for tweet in data:\n",
    "        selected = []\n",
    "        for word in tweet:\n",
    "            selected.append(word[0].lower()) if word[1] in to_keep and len(\n",
    "                word[0]) > 2 else None\n",
    "            # print(selected)\n",
    "            # if word[1] in to_keep: #verificando se tem alguma das tags que desejamos\n",
    "            #   selected.append(w[0].lower())\n",
    "        if selected != []:\n",
    "            cl_data.append(selected)\n",
    "    return cl_data\n"
   ]
  },
  {
   "cell_type": "code",
   "execution_count": 370,
   "id": "452d1a0d",
   "metadata": {},
   "outputs": [],
   "source": [
    "def create_vocab(clear_data: list) -> list:\n",
    "    vocab = []\n",
    "    for sentence in clear_data:\n",
    "        for word in sentence:\n",
    "            vocab.append(word)\n",
    "    return vocab\n"
   ]
  },
  {
   "cell_type": "code",
   "execution_count": 346,
   "id": "6c8ad4a8-15fc-4c10-b4d1-b5f8a649a167",
   "metadata": {},
   "outputs": [],
   "source": [
    "to_keep = {'VB', 'VBG', 'VBN', 'VBZ', 'VBP'}\n",
    "# print(tr_true.to_list()[:5])\n",
    "cl_tr_true = just_verbs(tr_true.to_list())\n"
   ]
  },
  {
   "cell_type": "code",
   "execution_count": 347,
   "id": "f587e1c9",
   "metadata": {},
   "outputs": [
    {
     "data": {
      "text/plain": [
       "[['missing', 'are', 'searching'],\n",
       " ['crawling', 'hea'],\n",
       " ['released', 'starring'],\n",
       " ['shows', 'burning']]"
      ]
     },
     "execution_count": 347,
     "metadata": {},
     "output_type": "execute_result"
    }
   ],
   "source": [
    "cl_tr_true[:4]\n"
   ]
  },
  {
   "cell_type": "markdown",
   "id": "f203ed91",
   "metadata": {},
   "source": [
    "pega as palavras selencionadas no dataset sobre tweets de desastre e cria um vocabulario de verbos"
   ]
  },
  {
   "cell_type": "code",
   "execution_count": 420,
   "id": "96feffff",
   "metadata": {},
   "outputs": [],
   "source": [
    "labels_true = [True]*len(cl_tr_true)"
   ]
  },
  {
   "cell_type": "code",
   "execution_count": 371,
   "id": "d341c296-6c45-4728-92cd-da27d0a55b24",
   "metadata": {},
   "outputs": [],
   "source": [
    "vocab_words_true_dis = create_vocab(cl_tr_true)\n"
   ]
  },
  {
   "cell_type": "code",
   "execution_count": 372,
   "id": "6e64b5e5-ee9d-4a6a-97c7-ca605a64aa82",
   "metadata": {},
   "outputs": [
    {
     "name": "stdout",
     "output_type": "stream",
     "text": [
      "1247 3657\n"
     ]
    }
   ],
   "source": [
    "vocab_unique_words_true_dis = list(set(vocab_words_true_dis))\n",
    "# print(vocab_words_true_dis)\n",
    "print(len(vocab_unique_words_true_dis), len(vocab_words_true_dis))\n"
   ]
  },
  {
   "cell_type": "code",
   "execution_count": 351,
   "id": "e8204ee3-933b-4454-be42-8af9b9d18ae1",
   "metadata": {},
   "outputs": [
    {
     "data": {
      "text/plain": [
       "['notice', \"'invading\", \"'annihilated\", 'evacuate', 'elevated']"
      ]
     },
     "execution_count": 351,
     "metadata": {},
     "output_type": "execute_result"
    }
   ],
   "source": [
    "vocab_unique_words_true_dis[:5]\n"
   ]
  },
  {
   "cell_type": "markdown",
   "id": "73a0fb51",
   "metadata": {},
   "source": [
    "##### Fazendo um dicionario de onde cada palavra única que conhecemenos nos nossos dados de treinamento vai ter como chave um coeficiente que representa a chance dela aparecer em um twitter sobre desastre real\n",
    "Esse coeficiente nada mais é do que a probabilidade de determinada palavra ocorrer, considerando que as palavras são independentes (sabemos que isso não é verdade) e considerando que os tweets independentes"
   ]
  },
  {
   "cell_type": "code",
   "execution_count": 352,
   "id": "ad33248a",
   "metadata": {},
   "outputs": [],
   "source": [
    "max_prob_w = ''\n",
    "max_prob = -1\n",
    "min_prob = np.Inf\n"
   ]
  },
  {
   "cell_type": "code",
   "execution_count": 358,
   "id": "6bdfdb19",
   "metadata": {},
   "outputs": [],
   "source": [
    "dict_prob_true = {}\n",
    "for w in vocab_unique_words_true_dis:\n",
    "    w_occurr = 0\n",
    "    total = len(vocab_words_true_dis)\n",
    "    for word in vocab_words_true_dis:\n",
    "        if w == word:\n",
    "            w_occurr += 1\n",
    "    #print(f\"Number of real disaster tweets with the word {w}: {w_occurr}\")\n",
    "    total_true_dis = total\n",
    "    prob = (w_occurr)/(total_true_dis)\n",
    "    #print(f\"Probability of {w} is {prob} \\n\")\n",
    "\n",
    "    dict_prob_true[w.lower()] = prob\n",
    "    if prob > max_prob:\n",
    "        max_prob = prob\n",
    "        max_prob_w = w.lower()\n",
    "    if prob < min_prob:\n",
    "        min_prob = prob\n"
   ]
  },
  {
   "cell_type": "code",
   "execution_count": 359,
   "id": "e2694e9c",
   "metadata": {},
   "outputs": [
    {
     "name": "stdout",
     "output_type": "stream",
     "text": [
      "The most prob word is are : 0.03527481542247744\n"
     ]
    },
    {
     "data": {
      "text/plain": [
       "1.0000000000000104"
      ]
     },
     "execution_count": 359,
     "metadata": {},
     "output_type": "execute_result"
    }
   ],
   "source": [
    "print(f'The most prob word is {max_prob_w} : {max_prob}')\n",
    "sum(dict_prob_true.values())\n"
   ]
  },
  {
   "cell_type": "code",
   "execution_count": 429,
   "id": "3188e99e-b10a-49ed-ab0a-4a23855d2fbe",
   "metadata": {},
   "outputs": [],
   "source": [
    "\n",
    "true_sample = list(dict_prob_true.items())\n",
    "rnd.shuffle(true_sample)\n",
    "true_sample = dict(true_sample[:10])\n"
   ]
  },
  {
   "cell_type": "code",
   "execution_count": 430,
   "id": "c3c5f555-4cb3-4c42-8630-7c25512f11f2",
   "metadata": {},
   "outputs": [
    {
     "data": {
      "image/png": "[encoded data removed]",
      "text/plain": [
       "<Figure size 960x480 with 1 Axes>"
      ]
     },
     "metadata": {},
     "output_type": "display_data"
    }
   ],
   "source": [
    "def pre_plot(): return plt.figure(facecolor='white', figsize=(12, 6), dpi=80)\n",
    "\n",
    "\n",
    "pre_plot()\n",
    "plt.bar(*zip(*true_sample.items()))\n",
    "plt.show()\n"
   ]
  },
  {
   "cell_type": "code",
   "execution_count": 364,
   "id": "dc6a91c2-e5e5-4bb2-8534-f81964dc2c60",
   "metadata": {},
   "outputs": [],
   "source": [
    "dict_prob_false = dict({})\n",
    "cl_tr_false = just_verbs(tr_false.to_list())\n"
   ]
  },
  {
   "cell_type": "code",
   "execution_count": 368,
   "id": "54101c75-e7f3-4e26-a846-9fe3c2453535",
   "metadata": {},
   "outputs": [
    {
     "name": "stdout",
     "output_type": "stream",
     "text": [
      "[['fear', 'are'], ['drown', 'entering', 'being', 'has', 'caused', 'fall', 'shit', \"'re\"], ['hardy'], ['has'], ['burned']]\n"
     ]
    }
   ],
   "source": [
    "len(cl_tr_false)\n",
    "print(cl_tr_false[:5])\n"
   ]
  },
  {
   "cell_type": "code",
   "execution_count": 394,
   "id": "93ea4aae",
   "metadata": {},
   "outputs": [],
   "source": [
    "vocab_words_false_dis = create_vocab(cl_tr_false)\n"
   ]
  },
  {
   "cell_type": "code",
   "execution_count": 439,
   "id": "50908acd",
   "metadata": {},
   "outputs": [],
   "source": [
    "def ext_features(word):\n",
    "    return {'suffix1': word[-1:],\n",
    "            'suffix2': word[-2:]}"
   ]
  },
  {
   "cell_type": "code",
   "execution_count": 444,
   "id": "71501b4e",
   "metadata": {},
   "outputs": [
    {
     "name": "stdout",
     "output_type": "stream",
     "text": [
      "[({'suffix1': 'e', 'suffix2': 'ce'}, 'True'), ({'suffix1': 'g', 'suffix2': 'ng'}, 'True'), ({'suffix1': 'd', 'suffix2': 'ed'}, 'True'), ({'suffix1': 'e', 'suffix2': 'te'}, 'True'), ({'suffix1': 'd', 'suffix2': 'ed'}, 'True')]\n"
     ]
    }
   ],
   "source": [
    "labels_false = [False]*len(cl_tr_false)\n",
    "labels = labels_true + labels_false \n",
    "train_data = cl_tr_true + cl_tr_false\n",
    "train_set = [ (ext_features(data),'True') for data in vocab_unique_words_true_dis]\n",
    "train_set = train_set + [ (ext_features(data),'False') for data in vocab_unique_words_false_dis ]\n",
    "\n",
    "print(train_set[:5])"
   ]
  },
  {
   "cell_type": "code",
   "execution_count": 445,
   "id": "24921b1d",
   "metadata": {},
   "outputs": [],
   "source": [
    "classifier = nltk.NaiveBayesClassifier.train(train_set)"
   ]
  },
  {
   "cell_type": "code",
   "execution_count": 395,
   "id": "ab69dd62-554c-446d-b9fc-13bf6b4d92d3",
   "metadata": {},
   "outputs": [
    {
     "data": {
      "text/plain": [
       "1703"
      ]
     },
     "execution_count": 395,
     "metadata": {},
     "output_type": "execute_result"
    }
   ],
   "source": [
    "vocab_unique_words_false_dis = list(set(vocab_words_false_dis))\n",
    "len(vocab_unique_words_false_dis)\n"
   ]
  },
  {
   "cell_type": "code",
   "execution_count": 377,
   "id": "bef94799-069b-469a-9fe2-ca0f90354be1",
   "metadata": {},
   "outputs": [],
   "source": [
    "dict_word_false = {}\n"
   ]
  },
  {
   "cell_type": "code",
   "execution_count": 380,
   "id": "934e4229-9ee5-4296-a2ad-612756470544",
   "metadata": {},
   "outputs": [],
   "source": [
    "max_w_false = ''\n",
    "max_prob_false = -1\n",
    "min_prob_false = np.Inf\n",
    "for w in vocab_unique_words_false_dis:\n",
    "    count = 0\n",
    "    for word in vocab_words_false_dis:\n",
    "        if w == word:\n",
    "            count += 1\n",
    "    prob = count/len(vocab_words_false_dis)\n",
    "    if prob > max_prob_false:\n",
    "        max_w_false = w\n",
    "        max_prob_false = prob\n",
    "    if prob < min_prob_false:\n",
    "        min_prob_false = prob\n",
    "    #print(f'{w} prob: {prob}')\n",
    "    dict_word_false[w] = prob\n"
   ]
  },
  {
   "cell_type": "code",
   "execution_count": 381,
   "id": "9a968cb3-874c-4d3d-8276-e83dc06ccc19",
   "metadata": {},
   "outputs": [
    {
     "name": "stdout",
     "output_type": "stream",
     "text": [
      "have : 0.03552206673842842\n",
      "0.9999999999999896\n",
      "0.0001794043774668102\n"
     ]
    }
   ],
   "source": [
    "print(f'{max_w_false} : {max_prob_false}')\n",
    "print(sum(dict_word_false.values()))\n",
    "print(f'{min_prob_false}')\n"
   ]
  },
  {
   "cell_type": "code",
   "execution_count": 459,
   "id": "082d1388",
   "metadata": {},
   "outputs": [],
   "source": [
    "prob_true_des = OrderedDict(sorted(dict_prob_true.items(), key=lambda kv: kv[1] , reverse=True))"
   ]
  },
  {
   "cell_type": "code",
   "execution_count": 491,
   "id": "5048bf80",
   "metadata": {},
   "outputs": [],
   "source": [
    "sample_prob_true_des_val = list(prob_true_des.values())[:12]\n",
    "sample_prob_true_des_label = list(prob_true_des.keys())[:12] "
   ]
  },
  {
   "cell_type": "code",
   "execution_count": 492,
   "id": "43422e5b",
   "metadata": {},
   "outputs": [
    {
     "data": {
      "text/plain": [
       "['are',\n",
       " 'have',\n",
       " 'has',\n",
       " 'been',\n",
       " 'killed',\n",
       " 'burning',\n",
       " 'get',\n",
       " \"'re\",\n",
       " 'watch',\n",
       " 'say',\n",
       " 'http',\n",
       " 'being']"
      ]
     },
     "execution_count": 492,
     "metadata": {},
     "output_type": "execute_result"
    }
   ],
   "source": [
    "sample_prob_true_des_label"
   ]
  },
  {
   "cell_type": "code",
   "execution_count": 489,
   "id": "5a070ace",
   "metadata": {},
   "outputs": [
    {
     "data": {
      "text/plain": [
       "[0.21044045676998374,\n",
       " 0.1941272430668842,\n",
       " 0.13866231647634586,\n",
       " 0.12234910277324636,\n",
       " 0.07830342577487767,\n",
       " 0.055464926590538345,\n",
       " 0.05220228384991844,\n",
       " 0.050570962479608496,\n",
       " 0.050570962479608496,\n",
       " 0.047308319738988594]"
      ]
     },
     "execution_count": 489,
     "metadata": {},
     "output_type": "execute_result"
    }
   ],
   "source": [
    "list(map(lambda i: i/sum(sample_prob_true_des_val) ,sample_prob_true_des_val))"
   ]
  },
  {
   "cell_type": "code",
   "execution_count": 490,
   "id": "ab4e3da0",
   "metadata": {},
   "outputs": [
    {
     "data": {
      "text/plain": [
       "([<matplotlib.patches.Wedge at 0x7f158cdba970>,\n",
       "  <matplotlib.patches.Wedge at 0x7f158ca58a90>,\n",
       "  <matplotlib.patches.Wedge at 0x7f158ca58dc0>,\n",
       "  <matplotlib.patches.Wedge at 0x7f158e3c52b0>,\n",
       "  <matplotlib.patches.Wedge at 0x7f158e3c5b20>,\n",
       "  <matplotlib.patches.Wedge at 0x7f158cd5eb80>,\n",
       "  <matplotlib.patches.Wedge at 0x7f158c87e7f0>,\n",
       "  <matplotlib.patches.Wedge at 0x7f158cba5040>,\n",
       "  <matplotlib.patches.Wedge at 0x7f158cba5310>,\n",
       "  <matplotlib.patches.Wedge at 0x7f158cda0040>],\n",
       " [Text(-0.6753998157632323, 0.868236770050078, 'are'),\n",
       "  Text(-1.0289784653838718, -0.3888487080809868, 'have'),\n",
       "  Text(-0.17959053210463385, -1.0852406372682395, 'has'),\n",
       "  Text(0.6709413641818113, -0.8716866901759199, 'been'),\n",
       "  Text(1.103793573174294, -0.32270690699011173, 'killed'),\n",
       "  Text(1.1394106003481217, 0.15570319140702726, 'burning'),\n",
       "  Text(0.9786955973434842, 0.5021503039334746, 'get'),\n",
       "  Text(0.7687967587974085, 0.7867347352587145, \"'re\"),\n",
       "  Text(0.4845151167808465, 0.9875449871326586, 'watch'),\n",
       "  Text(0.16288452857108687, 1.0878734440881324, 'say')],\n",
       " [Text(-0.3683998995072176, 0.47358369275458795, '21.0%'),\n",
       "  Text(-0.5612609811184754, -0.2120992953169019, '19.4%'),\n",
       "  Text(-0.097958472057073, -0.5919494385099487, '13.9%'),\n",
       "  Text(0.3659680168264425, -0.47546546736868356, '12.2%'),\n",
       "  Text(0.6238833239680792, -0.18239955612484576, '7.8%'),\n",
       "  Text(0.6440146871532861, 0.08800615166484149, '5.5%'),\n",
       "  Text(0.5338339621873549, 0.2739001657818952, '5.2%'),\n",
       "  Text(0.41934368661676824, 0.42912803741384425, '5.1%'),\n",
       "  Text(0.2642809727895526, 0.5386609020723592, '5.1%'),\n",
       "  Text(0.0888461064933201, 0.5933855149571631, '4.7%')])"
      ]
     },
     "execution_count": 490,
     "metadata": {},
     "output_type": "execute_result"
    },
    {
     "data": {
      "image/png": "[encoded data removed]",
      "text/plain": [
       "<Figure size 960x480 with 1 Axes>"
      ]
     },
     "metadata": {},
     "output_type": "display_data"
    }
   ],
   "source": [
    "pre_plot() \n",
    "plt.pie(list(map(lambda i: i/sum(sample_prob_true_des_val) ,sample_prob_true_des_val)),explode=[0, 0, 0,0, 0.05, 0.05,0 , 0 ,0 ,0], labels=sample_prob_true_des_label, autopct='%1.1f%%',\n",
    "        shadow=True, startangle=90)"
   ]
  },
  {
   "cell_type": "code",
   "execution_count": 493,
   "id": "98d6c9ac",
   "metadata": {},
   "outputs": [],
   "source": [
    "prob_false_des = OrderedDict(sorted(dict_word_false.items(), key=lambda kv: kv[1] , reverse=True))\n",
    "sample_prob_false_des_val = list(prob_false_des.values())[:10]\n",
    "sample_prob_false_des_label = list(prob_false_des.keys())[:10] "
   ]
  },
  {
   "cell_type": "code",
   "execution_count": 496,
   "id": "af65f5f1",
   "metadata": {},
   "outputs": [
    {
     "data": {
      "text/plain": [
       "([<matplotlib.patches.Wedge at 0x7f158a5d4130>,\n",
       "  <matplotlib.patches.Wedge at 0x7f158a5d4a90>,\n",
       "  <matplotlib.patches.Wedge at 0x7f158efdd3a0>,\n",
       "  <matplotlib.patches.Wedge at 0x7f158efddc70>,\n",
       "  <matplotlib.patches.Wedge at 0x7f158efc7580>,\n",
       "  <matplotlib.patches.Wedge at 0x7f158efc7e50>,\n",
       "  <matplotlib.patches.Wedge at 0x7f158efb9760>,\n",
       "  <matplotlib.patches.Wedge at 0x7f158efb9fd0>,\n",
       "  <matplotlib.patches.Wedge at 0x7f158d6b3940>,\n",
       "  <matplotlib.patches.Wedge at 0x7f158d6af250>],\n",
       " [Text(-0.6443116178300653, 0.8915506374453468, 'have'),\n",
       "  Text(-1.0641502175679052, -0.27853961019966295, 'are'),\n",
       "  Text(-0.38455867754636713, -1.030589454401601, 'get'),\n",
       "  Text(0.39755650441858303, -1.0256455653852736, 'has'),\n",
       "  Text(0.8956055677941618, -0.6386631873970015, \"'re\"),\n",
       "  Text(1.087366049236338, -0.16623800699045366, 'been'),\n",
       "  Text(1.0538253962283646, 0.3153601659438471, 'know'),\n",
       "  Text(0.84685501556193, 0.702023206609015, 'going'),\n",
       "  Text(0.5328513518152359, 0.9623250162334324, 'see'),\n",
       "  Text(0.1765404445207611, 1.0857409780644793, 'want')],\n",
       " [Text(-0.351442700634581, 0.4863003476974618, '19.9%'),\n",
       "  Text(-0.5804455732188574, -0.15193069647254343, '18.3%'),\n",
       "  Text(-0.20975927866165478, -0.5621397024008732, '12.2%'),\n",
       "  Text(0.2168490024101362, -0.5594430356646946, '11.0%'),\n",
       "  Text(0.4885121278877246, -0.34836173858018255, '7.5%'),\n",
       "  Text(0.5931087541289115, -0.09067527654024744, '7.3%'),\n",
       "  Text(0.5748138524881987, 0.17201463596937114, '6.7%'),\n",
       "  Text(0.4619209175792345, 0.38292174905946263, '6.0%'),\n",
       "  Text(0.2906461918992196, 0.5249045543091448, '5.8%'),\n",
       "  Text(0.09629478792041513, 0.5922223516715341, '5.1%')])"
      ]
     },
     "execution_count": 496,
     "metadata": {},
     "output_type": "execute_result"
    },
    {
     "data": {
      "image/png": "[encoded data removed]",
      "text/plain": [
       "<Figure size 960x480 with 1 Axes>"
      ]
     },
     "metadata": {},
     "output_type": "display_data"
    }
   ],
   "source": [
    "pre_plot() \n",
    "plt.pie(list(map(lambda i: i/sum(sample_prob_false_des_val) ,sample_prob_false_des_val)), labels=sample_prob_false_des_label, autopct='%1.1f%%',\n",
    "        shadow=True, startangle=90)"
   ]
  },
  {
   "cell_type": "code",
   "execution_count": 450,
   "id": "79f81533-b233-4352-bfcc-2b15e0f60043",
   "metadata": {},
   "outputs": [],
   "source": [
    "\n",
    "false_sample = list(dict_word_false.items())\n",
    "rnd.shuffle(false_sample)\n",
    "false_sample = dict(false_sample[:10])\n"
   ]
  },
  {
   "cell_type": "code",
   "execution_count": 451,
   "id": "8d5b85b0-6270-427c-afef-2b6851ee8db9",
   "metadata": {},
   "outputs": [
    {
     "name": "stderr",
     "output_type": "stream",
     "text": [
      "/home/vcn/anaconda3/lib/python3.8/site-packages/matplotlib/backends/backend_agg.py:238: RuntimeWarning: Glyph 137 missing from current font.\n",
      "  font.set_text(s, 0.0, flags=flags)\n",
      "/home/vcn/anaconda3/lib/python3.8/site-packages/matplotlib/backends/backend_agg.py:201: RuntimeWarning: Glyph 137 missing from current font.\n",
      "  font.set_text(s, 0, flags=flags)\n"
     ]
    },
    {
     "data": {
      "image/png": "[encoded data removed]",
      "text/plain": [
       "<Figure size 960x480 with 1 Axes>"
      ]
     },
     "metadata": {},
     "output_type": "display_data"
    }
   ],
   "source": [
    "pre_plot()\n",
    "plt.bar(*zip(*false_sample.items()),color='red')\n",
    "plt.show()\n"
   ]
  },
  {
   "cell_type": "code",
   "execution_count": 455,
   "id": "08d5113c-e7e9-4c18-95ec-7fc7cd5b7b25",
   "metadata": {},
   "outputs": [
    {
     "name": "stdout",
     "output_type": "stream",
     "text": [
      " Prob. tweet about real disaster: 0.4262725779967159 , Prob. tweet not about disaster: 0.5737274220032841 \n"
     ]
    },
    {
     "data": {
      "text/plain": [
       "([<matplotlib.patches.Wedge at 0x7f158d743460>,\n",
       "  <matplotlib.patches.Wedge at 0x7f158d7439d0>],\n",
       " [Text(-1.167954526011973, 0.2754672851141274, 'About real disaster'),\n",
       "  Text(1.070624982177642, -0.25251167802128355, 'Not about disaster')],\n",
       " [Text(-0.6813068068403174, 0.1606892496499076, '42.6%'),\n",
       "  Text(0.5839772630059864, -0.13773364255706375, '57.4%')])"
      ]
     },
     "execution_count": 455,
     "metadata": {},
     "output_type": "execute_result"
    },
    {
     "data": {
      "image/png": "[encoded data removed]",
      "text/plain": [
       "<Figure size 960x480 with 1 Axes>"
      ]
     },
     "metadata": {},
     "output_type": "display_data"
    }
   ],
   "source": [
    "prob_true = len(tr_true) / (len(tr_false) + len(tr_true))\n",
    "print(\n",
    "    f' Prob. tweet about real disaster: { prob_true} , Prob. tweet not about disaster: {1 - prob_true} ')\n",
    "pre_plot()\n",
    "plt.pie([prob_true * 100, (1 - prob_true) * 100],explode=[0.1,0], labels=['About real disaster', 'Not about disaster'], autopct='%1.1f%%',\n",
    "        shadow=True, startangle=90)"
   ]
  },
  {
   "cell_type": "markdown",
   "id": "b5602238",
   "metadata": {},
   "source": [
    "#### Agora criaremos uma lista com tweets sem labels para testagem "
   ]
  },
  {
   "cell_type": "code",
   "execution_count": 389,
   "id": "65b754d5",
   "metadata": {},
   "outputs": [],
   "source": [
    "tests = test_tts['real_trag'] + test_tts['not_trag']\n",
    "rnd.shuffle(tests)\n"
   ]
  },
  {
   "cell_type": "code",
   "execution_count": 390,
   "id": "9cac2bcf",
   "metadata": {},
   "outputs": [
    {
     "data": {
      "text/plain": [
       "[\"I added a video to a @YouTube playlist http://t.co/bcjYleRRYX Ori and the Bind forest ep 6 'Fire and death'\",\n",
       " '.@slosheriff: 2 South Gate police officers and 2 Huntington Park officers arrested after child abuse investigation at boot camp',\n",
       " 'Three-alarm fire destroys two residential buildings a car in Manchester N.H. on Sunday afternoon http://t.co/rVkyj3YUVK',\n",
       " 'my biggest fear is that eventually you will see me the way i see myself.',\n",
       " 'Large rain drops falling in Rock Hill off Anderson Road. #rain #scwx #drought']"
      ]
     },
     "execution_count": 390,
     "metadata": {},
     "output_type": "execute_result"
    }
   ],
   "source": [
    "tests[:5]\n"
   ]
  },
  {
   "cell_type": "code",
   "execution_count": 404,
   "id": "14b91e98",
   "metadata": {},
   "outputs": [
    {
     "name": "stdout",
     "output_type": "stream",
     "text": [
      "[['I', 'added', 'a', 'video', 'to', 'a', '@YouTube', 'playlist', 'http://t.co/bcjYleRRYX', 'Ori', 'and', 'the', 'Bind', 'forest', 'ep', '6', \"'Fire\", 'and', \"death'\"], ['.@slosheriff:', '2', 'South', 'Gate', 'police', 'officers', 'and', '2', 'Huntington', 'Park', 'officers', 'arrested', 'after', 'child', 'abuse', 'investigation', 'at', 'boot', 'camp'], ['Three-alarm', 'fire', 'destroys', 'two', 'residential', 'buildings', 'a', 'car', 'in', 'Manchester', 'N.H.', 'on', 'Sunday', 'afternoon', 'http://t.co/rVkyj3YUVK'], ['my', 'biggest', 'fear', 'is', 'that', 'eventually', 'you', 'will', 'see', 'me', 'the', 'way', 'i', 'see', 'myself.'], ['Large', 'rain', 'drops', 'falling', 'in', 'Rock', 'Hill', 'off', 'Anderson', 'Road.', '#rain', '#scwx', '#drought']]\n"
     ]
    }
   ],
   "source": [
    "distinct_words_as_sentences_tests = [\n",
    "    [word for word in sentence.split()] for sentence in tests\n",
    "]\n",
    "test_tts['real_trag'] = [\n",
    "    [word for word in sentence.split()] for sentence in test_tts['real_trag']\n",
    "]\n",
    "test_tts['not_trag'] = [\n",
    "    [word for word in sentence.split()] for sentence in test_tts['not_trag']\n",
    "]\n",
    "\n",
    "print(distinct_words_as_sentences_tests[:5])\n"
   ]
  },
  {
   "cell_type": "markdown",
   "id": "6557d2d6",
   "metadata": {},
   "source": [
    "##### Estamos considerando apenas verbos, e vamos desconsiderar as palavras que nosso classificador não conhece"
   ]
  },
  {
   "cell_type": "code",
   "execution_count": 405,
   "id": "78fa9538",
   "metadata": {},
   "outputs": [],
   "source": [
    "reduced_sentences_tts_test = [\n",
    "    [\n",
    "        word for word in sentence\n",
    "            if word in vocab_unique_words_true_dis or word in vocab_unique_words_false_dis\n",
    "    ] for sentence in distinct_words_as_sentences_tests\n",
    "]\n",
    "red_tts_test = {'dis': [] , 'n_dis' : []}\n",
    "red_tts_test['dis'] = [\n",
    "    [\n",
    "        word for word in sentence\n",
    "            if word in vocab_unique_words_true_dis or word in vocab_unique_words_false_dis\n",
    "    ] for sentence in test_tts['real_trag']\n",
    "]\n",
    "red_tts_test['n_dis'] = [\n",
    "    [\n",
    "        word for word in sentence\n",
    "            if word in vocab_unique_words_true_dis or word in vocab_unique_words_false_dis\n",
    "    ] for sentence in test_tts['not_trag']\n",
    "]"
   ]
  },
  {
   "cell_type": "code",
   "execution_count": 410,
   "id": "c8541639",
   "metadata": {},
   "outputs": [
    {
     "name": "stdout",
     "output_type": "stream",
     "text": [
      "[(['damage', 'fatalities'], 'dis'), (['transport', 'wake', 'lab'], 'n_dis'), (['have', 'been', 'doing', 'the', 'the', 'has', 'the', 'back'], 'n_dis'), (['panic'], 'n_dis'), ([], 'n_dis')]\n"
     ]
    }
   ],
   "source": [
    "dict_to_tuple = lambda label: [ (data,label) for data in red_tts_test[label] ] \n",
    "\n",
    "test_data = dict_to_tuple('dis')\n",
    "test_data += dict_to_tuple('n_dis')\n",
    "rnd.shuffle(test_data)\n",
    "print(test_data[:5])"
   ]
  },
  {
   "cell_type": "code",
   "execution_count": 447,
   "id": "90e8344a",
   "metadata": {},
   "outputs": [],
   "source": [
    "label = 'True'\n",
    "\n",
    "test_feats_true  = []\n",
    "for i in red_tts_test['dis']:\n",
    "    for j in i:\n",
    "        test_feats_true.append(j) \n",
    "test_d =  [ (ext_features(data),label) for data in test_feats_true] \n",
    "label = 'False'\n",
    "test_feats_true  = []\n",
    "for i in red_tts_test['n_dis']:\n",
    "    for j in i:\n",
    "        test_feats_true.append(j) \n",
    "test_d += [ (ext_features(data),label) for data in test_feats_true] \n"
   ]
  },
  {
   "cell_type": "markdown",
   "id": "11f4546d",
   "metadata": {},
   "source": [
    "Enfim decidimos usar o classificador  Naive Bayes do NLTK"
   ]
  },
  {
   "cell_type": "code",
   "execution_count": 449,
   "id": "646cd72e",
   "metadata": {},
   "outputs": [
    {
     "name": "stdout",
     "output_type": "stream",
     "text": [
      "0.5757343550446998\n"
     ]
    }
   ],
   "source": [
    "print(nltk.classify.accuracy(classifier, test_d))"
   ]
  },
  {
   "cell_type": "markdown",
   "id": "0fbdc464",
   "metadata": {},
   "source": [
    "##### Não precisaremos aplicar stemming pois já removemos anteriormente tudo que não é verbo "
   ]
  },
  {
   "cell_type": "markdown",
   "id": "26b91e0a",
   "metadata": {},
   "source": [
    "### Our Classifier "
   ]
  },
  {
   "cell_type": "code",
   "execution_count": 406,
   "id": "3d357000",
   "metadata": {},
   "outputs": [],
   "source": [
    "def multiply_all_word_prob(l: list) -> float:\n",
    "    return reduce(\n",
    "        lambda x, y: x*y if x*y != 0 else 1,\n",
    "        l\n",
    "    )\n"
   ]
  },
  {
   "cell_type": "markdown",
   "id": "4b408c4e",
   "metadata": {},
   "source": []
  },
  {
   "cell_type": "markdown",
   "id": "79595a1e",
   "metadata": {},
   "source": [
    "$$\n",
    "\\frac { P(Ser Desastre)*P(Desastre)} {P(Ser desastre) * P(Deastre) + P(Ñ ser Desastre)*P(Não desastre)}\n",
    "\n",
    "$$"
   ]
  },
  {
   "cell_type": "code",
   "execution_count": 416,
   "id": "508ce49f",
   "metadata": {},
   "outputs": [],
   "source": [
    "def BayesClassifier(tweet: str) -> float:\n",
    "    probs = []\n",
    "    for word in tweet:\n",
    "        pr_dis = prob_true\n",
    "        pr_n_dis = 1 - prob_true\n",
    "        try:\n",
    "            pr_w_dis = dict_prob_true[word.lower()]\n",
    "        except KeyError:\n",
    "            pr_w_dis = 1 \n",
    "        try:\n",
    "            pr_w_n_dis = dict_prob_false[word.lower()]\n",
    "        except KeyError:\n",
    "            pr_w_n_dis = 1 \n",
    "        prob_word_dis_bayes = (pr_w_dis*pr_dis) /(((pr_w_dis*pr_dis) + (pr_w_dis*pr_n_dis)))\n",
    "        # print(prob_word_dis_bayes)\n",
    "        # essa vai apendando na lista probs mas\n",
    "        probs.append(prob_word_dis_bayes)\n",
    "    # print(tweet)\n",
    "    # print(probs) #essa lista fica vazia\n",
    "    final_classification = multiply_all_word_prob(probs)\n",
    "    #final_classification = sum(probs)/100\n",
    "    #final_classification = 1 - final_classification\n",
    "    return final_classification\n"
   ]
  },
  {
   "cell_type": "code",
   "execution_count": 446,
   "id": "17127a9d",
   "metadata": {},
   "outputs": [
    {
     "data": {
      "text/plain": [
       "[(['damage', 'fatalities'], 'dis'),\n",
       " (['transport', 'wake', 'lab'], 'n_dis'),\n",
       " (['have', 'been', 'doing', 'the', 'the', 'has', 'the', 'back'], 'n_dis'),\n",
       " (['panic'], 'n_dis'),\n",
       " ([], 'n_dis'),\n",
       " (['dropping', 'fire', 'tomorrow', 'saying'], 'n_dis'),\n",
       " (['the', 'the', 'are', 'the'], 'n_dis'),\n",
       " (['rises', 'derail'], 'dis'),\n",
       " ([], 'dis'),\n",
       " ([], 'n_dis'),\n",
       " ([], 'dis'),\n",
       " (['lightning', 'the'], 'dis'),\n",
       " (['suicide', 'released'], 'dis'),\n",
       " (['annihilated', 'paul'], 'n_dis'),\n",
       " (['update', 'pretty', 'wrecked', 'the', 'app'], 'n_dis'),\n",
       " ([], 'n_dis'),\n",
       " (['been', 'bleeding', 'feel'], 'n_dis'),\n",
       " (['the', 'extreme', 'diving', 'the'], 'n_dis'),\n",
       " (['sleep', 'screams'], 'n_dis'),\n",
       " ([], 'n_dis'),\n",
       " (['sunk', 'got'], 'n_dis'),\n",
       " ([], 'n_dis'),\n",
       " (['spend', 'wedding', 'feeding', 'see'], 'n_dis'),\n",
       " (['wrecked', 'all', 'you'], 'n_dis'),\n",
       " (['ruin'], 'n_dis'),\n",
       " (['you', 'feel', 'like', 'you', 'are', 'sinking', 'low', 'the'], 'n_dis'),\n",
       " (['suspect', 'linked', 'fires', 'caught'], 'dis'),\n",
       " ([], 'n_dis'),\n",
       " ([], 'n_dis'),\n",
       " ([], 'dis'),\n",
       " ([], 'dis'),\n",
       " (['designed', 'building', 'evacuate', 'report', 'evacuation'], 'dis'),\n",
       " (['police'], 'dis'),\n",
       " ([], 'n_dis'),\n",
       " (['destroy', 'this'], 'n_dis'),\n",
       " (['closed', 'the', 'doing'], 'n_dis'),\n",
       " (['watch', 'collided', 'set'], 'dis'),\n",
       " (['closed'], 'dis'),\n",
       " (['are', 'track'], 'dis'),\n",
       " (['forecast', 'coming'], 'dis'),\n",
       " (['please', 'bored'], 'n_dis'),\n",
       " ([], 'n_dis'),\n",
       " (['rioting', 'burning', 'down', 'buildings'], 'dis'),\n",
       " (['the', 'follow'], 'dis'),\n",
       " ([], 'dis'),\n",
       " ([], 'dis'),\n",
       " (['dies'], 'dis'),\n",
       " ([], 'dis'),\n",
       " (['shut', 'down'], 'dis'),\n",
       " ([], 'dis'),\n",
       " (['obliterate', 'lead'], 'n_dis'),\n",
       " (['like', 'disaster', 'take', 'the', 'take', 'back', 'the'], 'n_dis'),\n",
       " (['peanut'], 'n_dis'),\n",
       " ([], 'n_dis'),\n",
       " (['feel', 'like'], 'n_dis'),\n",
       " (['shakes', 'the', 'the', 'lol'], 'dis'),\n",
       " (['the', 'tag', 'hijack', 'the'], 'n_dis'),\n",
       " ([], 'dis'),\n",
       " (['debris', 'found'], 'dis'),\n",
       " (['been',\n",
       "   'raining',\n",
       "   'you',\n",
       "   'left',\n",
       "   'drowning',\n",
       "   'the',\n",
       "   'flood',\n",
       "   'see',\n",
       "   'always',\n",
       "   'been',\n",
       "   'you',\n",
       "   'give'],\n",
       "  'n_dis'),\n",
       " (['attack', 'police', 'injured'], 'dis'),\n",
       " ([], 'n_dis'),\n",
       " (['let', 'ruin'], 'n_dis'),\n",
       " (['seeing', 'baby', 'fall', 'out'], 'n_dis'),\n",
       " (['has', 'the'], 'n_dis'),\n",
       " (['trains', 'have', 'collided', 'pray'], 'dis'),\n",
       " (['falls', 'elevated', 'tracks', 'windstorm'], 'dis'),\n",
       " ([], 'dis'),\n",
       " ([], 'n_dis'),\n",
       " (['responds', 'the', 'answer'], 'n_dis'),\n",
       " (['reports', 'was'], 'dis'),\n",
       " (['call',\n",
       "   'tomorrow',\n",
       "   'the',\n",
       "   'excuse',\n",
       "   'like',\n",
       "   'the',\n",
       "   'whole',\n",
       "   'falling',\n",
       "   'out'],\n",
       "  'dis'),\n",
       " (['drowned', 'the', 'lost'], 'n_dis'),\n",
       " (['this', 'wave', 'want', 'the', 'come', 'back', 'enjoying', 'this', 'break'],\n",
       "  'dis'),\n",
       " ([], 'dis'),\n",
       " (['the'], 'n_dis'),\n",
       " (['the', 'the'], 'n_dis'),\n",
       " ([], 'dis'),\n",
       " (['disaster'], 'dis'),\n",
       " (['says', 'found', 'found', 'detonate'], 'dis'),\n",
       " (['say', 'crash', 'was', 'caused'], 'dis'),\n",
       " (['rescued', 'floods'], 'dis'),\n",
       " (['watched', 'the', 'think'], 'n_dis'),\n",
       " (['you', 'keep', 'this', 'deals', 'weapon', 'damage'], 'dis'),\n",
       " ([], 'n_dis'),\n",
       " (['know', 'because', 'you', 'make', 'come', 'smoke', 'you'], 'dis'),\n",
       " (['disaster'], 'dis'),\n",
       " (['get', 'are', 'bleeding'], 'dis'),\n",
       " ([], 'dis'),\n",
       " (['drill'], 'n_dis'),\n",
       " (['has', 'killing', 'dead', 'something'], 'n_dis'),\n",
       " ([], 'n_dis'),\n",
       " (['the', 'camp'], 'dis'),\n",
       " (['razed', 'wildfire'], 'dis'),\n",
       " ([], 'n_dis'),\n",
       " (['continues', 'till'], 'dis'),\n",
       " (['escape', 'engulfed', 'crews', 'investigating', 'cause'], 'dis'),\n",
       " ([], 'n_dis'),\n",
       " ([], 'n_dis'),\n",
       " (['like', 'have', 'ball', 'fun'], 'n_dis'),\n",
       " ([], 'dis'),\n",
       " (['blamed', 'bush', 'fires'], 'dis'),\n",
       " (['destroyed', 'were', 'burned'], 'n_dis'),\n",
       " (['confirms', 'belongs'], 'dis'),\n",
       " ([], 'dis'),\n",
       " (['the', 'are'], 'n_dis'),\n",
       " (['disaster', 'the', 'the', 'girls'], 'n_dis'),\n",
       " (['sitting', 'the', 'flood', 'knows'], 'n_dis'),\n",
       " (['down'], 'n_dis'),\n",
       " ([], 'dis'),\n",
       " (['attack', 'police', 'post', 'tonight', 'attacked'], 'dis'),\n",
       " (['suspect', 'linked', 'fires', 'caught'], 'dis'),\n",
       " ([], 'n_dis'),\n",
       " (['has', 'unveiled'], 'n_dis'),\n",
       " (['crushed', 'run'], 'n_dis'),\n",
       " (['wrecked'], 'n_dis'),\n",
       " (['had', 'screaming', 'baby', 'you', 'have', 'loved'], 'n_dis'),\n",
       " (['get', 'this'], 'n_dis'),\n",
       " (['fatalities', 'running', 'increase'], 'dis'),\n",
       " (['traumatised'], 'n_dis'),\n",
       " (['evacuation', 'wildfire'], 'dis'),\n",
       " (['are', 'you'], 'n_dis'),\n",
       " (['brought'], 'n_dis'),\n",
       " (['make', 'you', 'stop', 'bleeding'], 'n_dis'),\n",
       " ([], 'dis'),\n",
       " (['the', 'love', 'doing', 'damage'], 'dis'),\n",
       " (['broken'], 'dis'),\n",
       " (['lightning', 'the'], 'dis'),\n",
       " (['collapse'], 'dis'),\n",
       " (['tweet', 'care', 'disaster', 'are', 'not', 'the', 'ignore', 'are', 'the'],\n",
       "  'dis'),\n",
       " (['need',\n",
       "   'this',\n",
       "   'girlfriend',\n",
       "   'ride',\n",
       "   'till',\n",
       "   'the',\n",
       "   'bloody',\n",
       "   'end',\n",
       "   'girlfriend'],\n",
       "  'n_dis'),\n",
       " (['missing', 'collapse'], 'dis'),\n",
       " (['not', 'forget', 'wounded'], 'dis'),\n",
       " ([], 'n_dis'),\n",
       " (['are', 'concerned'], 'dis'),\n",
       " (['remember', 'was', 'survived', 'remember', 'name'], 'n_dis'),\n",
       " (['are'], 'dis'),\n",
       " (['are', 'searching', 'the', 'carrying', 'capsized', 'the'], 'dis'),\n",
       " (['attack', 'police', 'post', 'injured'], 'dis'),\n",
       " (['the', 'the', 'the'], 'dis'),\n",
       " (['wounds'], 'dis'),\n",
       " (['return'], 'dis'),\n",
       " ([], 'dis'),\n",
       " ([], 'dis'),\n",
       " ([], 'n_dis'),\n",
       " (['blight'], 'n_dis'),\n",
       " (['dad', 'look', 'really', 'like'], 'dis'),\n",
       " (['wish', 'was', 'add', 'fire'], 'dis'),\n",
       " (['like'], 'n_dis'),\n",
       " (['you', 'something', 'you', 'carry', 'floods', 'all'], 'n_dis'),\n",
       " (['this'], 'dis'),\n",
       " ([], 'n_dis'),\n",
       " (['claims', 'suicide', 'bombing'], 'dis'),\n",
       " (['though',\n",
       "   'had',\n",
       "   'been',\n",
       "   'all',\n",
       "   'the',\n",
       "   'somehow',\n",
       "   'delayed',\n",
       "   'watching',\n",
       "   'was',\n",
       "   'blown'],\n",
       "  'dis'),\n",
       " (['take', 'calm', 'relatives'], 'dis'),\n",
       " (['agree', 'things', 'screams'], 'dis'),\n",
       " (['blaze', 'fuck', 'the'], 'n_dis'),\n",
       " (['evacuated', 'child', 'left', 'alone', 'the', 'force'], 'dis'),\n",
       " (['understand', 'mad', 'always', 'this', 'fun', 'desolate'], 'n_dis'),\n",
       " (['used'], 'n_dis'),\n",
       " (['not', 'had', 'too', 'rain', 'planted', 'are', 'actually'], 'dis'),\n",
       " ([], 'dis'),\n",
       " ([], 'n_dis'),\n",
       " (['ball', 'body', 'bagging', 'like', 'was'], 'n_dis'),\n",
       " (['realize', 'till', 'the'], 'dis'),\n",
       " (['reported', 'dead', 'suspect', 'the'], 'dis'),\n",
       " (['hell', 'thought'], 'n_dis'),\n",
       " (['hit', 'the', 'getting', 'going', 'out'], 'dis'),\n",
       " ([], 'n_dis'),\n",
       " (['bloody'], 'n_dis'),\n",
       " (['the', 'the', 'not', 'support', 'the'], 'n_dis'),\n",
       " (['the', 'have', 'watch', 'the', 'show', 'all'], 'n_dis'),\n",
       " ([], 'n_dis'),\n",
       " ([], 'n_dis'),\n",
       " (['mass', 'come'], 'dis'),\n",
       " (['record', 'drought', 'been', 'hit'], 'dis'),\n",
       " (['rule', 'out'], 'n_dis'),\n",
       " (['see', 'dat', 'fuck', 'crash'], 'n_dis'),\n",
       " (['the'], 'dis'),\n",
       " (['know', 'control', 'not', 'saying', 'want', 'derail', 'plan'], 'n_dis'),\n",
       " (['storm'], 'n_dis'),\n",
       " (['playing', 'the', 'has', 'bored', 'the', 'not', 'wanting'], 'n_dis'),\n",
       " (['want', 'back', 'feel', 'like', 'disaster', 'lol', 'need', 'brought'],\n",
       "  'n_dis'),\n",
       " (['concerned'], 'n_dis'),\n",
       " (['want', 'this', 'deal', 'have', 'any', 'coming', 'body', 'makes'], 'n_dis'),\n",
       " (['are', 'the'], 'n_dis'),\n",
       " (['ruin'], 'n_dis'),\n",
       " ([], 'dis'),\n",
       " ([], 'n_dis'),\n",
       " (['the', 'watch'], 'n_dis'),\n",
       " (['this'], 'n_dis'),\n",
       " (['you',\n",
       "   'annoying',\n",
       "   'head',\n",
       "   'actually',\n",
       "   'support',\n",
       "   'causes',\n",
       "   'you',\n",
       "   'hate',\n",
       "   'get'],\n",
       "  'n_dis'),\n",
       " (['are', 'blown'], 'n_dis'),\n",
       " (['have', 'meltdown', 'you'], 'n_dis'),\n",
       " (['you', 'will', 'obliterate', 'trying', 'sell', 'you', 'used', 'blows'],\n",
       "  'dis'),\n",
       " ([], 'n_dis'),\n",
       " (['released'], 'dis'),\n",
       " (['will', 'obliterate', 'the', 'give'], 'dis'),\n",
       " (['the', 'the', 'have'], 'dis'),\n",
       " (['looks', 'like', 'was', 'having', 'panic'], 'n_dis'),\n",
       " (['this'], 'n_dis'),\n",
       " (['fatalities', 'the', 'fun', 'had'], 'n_dis'),\n",
       " (['killed', 'including'], 'dis'),\n",
       " (['all', 'till', 'rise'], 'n_dis'),\n",
       " (['this', 'see', 'help'], 'n_dis'),\n",
       " (['know', 'will', 'derailed'], 'dis'),\n",
       " (['heard', 'bang', 'appears'], 'n_dis'),\n",
       " (['the', 'made', 'will', 'reap', 'the', 'have'], 'n_dis'),\n",
       " (['please', 'support', 'this', 'cosponsor', 'support', 'injured'], 'dis'),\n",
       " (['believe', 'not', 'weapon', 'will'], 'n_dis'),\n",
       " ([], 'dis'),\n",
       " ([], 'n_dis'),\n",
       " ([], 'n_dis'),\n",
       " (['made', 'was', 'devastated', 'record'], 'n_dis'),\n",
       " (['want', 'think', 'mention', 'not', 'leads'], 'n_dis'),\n",
       " (['are', 'doing', 'has', 'broken'], 'dis'),\n",
       " (['not', 'body', 'bagging', 'really', 'know'], 'n_dis'),\n",
       " (['work', 'you', 'think'], 'n_dis'),\n",
       " (['have', 'almost', 'fear', 'lives'], 'n_dis'),\n",
       " ([], 'dis'),\n",
       " (['wave'], 'n_dis'),\n",
       " (['land', 'rescue'], 'dis'),\n",
       " (['the'], 'n_dis'),\n",
       " ([], 'n_dis'),\n",
       " (['crushed'], 'n_dis'),\n",
       " (['hurts', 'eat', 'cause', 'burned'], 'n_dis'),\n",
       " ([], 'dis'),\n",
       " (['crash', 'this', 'has', 'sparked'], 'dis'),\n",
       " (['landslide', 'down', 'all'], 'dis'),\n",
       " (['hope', 'you', 'drown'], 'n_dis'),\n",
       " (['fatalities'], 'dis'),\n",
       " (['sinking', 'feeling', 'been', 'you', 'realise', 'been', 'this', 'whole'],\n",
       "  'dis'),\n",
       " (['uses', 'destroy', 'whole'], 'n_dis'),\n",
       " ([], 'dis'),\n",
       " (['till'], 'dis'),\n",
       " (['the', 'the'], 'dis'),\n",
       " (['holding', 'collapse'], 'dis'),\n",
       " (['the', 'fire', 'shot', 'the', 'exploded', 'caught'], 'n_dis'),\n",
       " (['glad', 'you', 'got', 'obliterated', 'all'], 'n_dis'),\n",
       " (['clean', 'clean', 'done', 'was', 'looking', 'like'], 'n_dis'),\n",
       " ([], 'n_dis'),\n",
       " (['are', 'flooding', 'like'], 'n_dis'),\n",
       " (['disaster'], 'n_dis'),\n",
       " (['shaking', 'fear', 'the'], 'n_dis'),\n",
       " (['wildfire'], 'dis'),\n",
       " ([], 'n_dis'),\n",
       " (['were', 'rioting', 'the'], 'n_dis'),\n",
       " (['claims', 'suicide', 'bombing', 'suicide'], 'dis'),\n",
       " (['pick'], 'n_dis'),\n",
       " ([], 'dis'),\n",
       " (['care', 'physicians', 'hold'], 'n_dis'),\n",
       " (['this', 'out', 'fear', 'win', 'get', 'kicked'], 'n_dis'),\n",
       " ([], 'n_dis'),\n",
       " (['has', 'concluded'], 'n_dis'),\n",
       " ([], 'n_dis'),\n",
       " (['understanding', 'the'], 'n_dis'),\n",
       " (['been', 'trying', 'write', 'living', 'heard'], 'n_dis'),\n",
       " ([], 'n_dis'),\n",
       " (['remain', 'reports'], 'dis'),\n",
       " ([], 'dis'),\n",
       " (['put',\n",
       "   'the',\n",
       "   'all',\n",
       "   'the',\n",
       "   'was',\n",
       "   'open',\n",
       "   'the',\n",
       "   'let',\n",
       "   'the',\n",
       "   'blight',\n",
       "   'get'],\n",
       "  'n_dis'),\n",
       " ([], 'n_dis'),\n",
       " (['you', 'following'], 'n_dis'),\n",
       " ([], 'n_dis'),\n",
       " (['are', 'getting', 'reports', 'flooding', 'use', 'driving', 'the'], 'dis'),\n",
       " (['the', 'waves', 'are', 'flooding', 'the', 'find', 'anymore', 'look', 'you'],\n",
       "  'dis'),\n",
       " (['was', 'upheaval', 'the'], 'n_dis'),\n",
       " (['happens', 'meets'], 'dis'),\n",
       " (['out', 'this'], 'n_dis'),\n",
       " (['wondering', 'ended', 'the'], 'dis'),\n",
       " (['going', 'destroy'], 'n_dis'),\n",
       " (['the'], 'dis'),\n",
       " (['fires', 'out', 'are', 'something', 'this', 'was', 'setting', 'ablaze'],\n",
       "  'dis'),\n",
       " ([], 'n_dis'),\n",
       " ([], 'dis'),\n",
       " ([], 'dis'),\n",
       " (['say', 'struggling', 'like'], 'dis'),\n",
       " (['change', 'got'], 'n_dis'),\n",
       " ([], 'dis'),\n",
       " (['remember', 'the', 'weapon'], 'dis'),\n",
       " (['has', 'come', 'the'], 'n_dis'),\n",
       " (['was',\n",
       "   'all',\n",
       "   'the',\n",
       "   'was',\n",
       "   'closed',\n",
       "   'collapsed',\n",
       "   'hope',\n",
       "   'let',\n",
       "   'tomorrow'],\n",
       "  'dis'),\n",
       " ([], 'dis'),\n",
       " (['crashed', 'attacked', 'flying'], 'n_dis'),\n",
       " (['matching', 'read'], 'n_dis'),\n",
       " (['are', 'going', 'give', 'love', 'name', 'this'], 'n_dis'),\n",
       " (['hijacking', 'send', 'sound', 'waves'], 'n_dis'),\n",
       " (['buy', 'weapon'], 'n_dis'),\n",
       " ([], 'dis'),\n",
       " (['shot', 'wounded'], 'dis'),\n",
       " (['famine', 'was', 'the', 'result'], 'dis'),\n",
       " (['fires', 'please', 'evacuate', 'affected', 'you'], 'dis'),\n",
       " (['wish', 'get'], 'n_dis'),\n",
       " ([], 'dis'),\n",
       " (['the', 'hold', 'any', 'you', 'decide'], 'n_dis'),\n",
       " (['putting', 'body'], 'n_dis'),\n",
       " (['down', 'always'], 'dis'),\n",
       " ([], 'dis'),\n",
       " ([], 'dis'),\n",
       " ([], 'dis'),\n",
       " (['actually', 'collapsed', 'the', 'watching'], 'n_dis'),\n",
       " (['explode'], 'n_dis'),\n",
       " (['you', 'screamed'], 'n_dis'),\n",
       " (['are', 'bush', 'fires', 'all', 'this', 'freaking', 'burn'], 'dis'),\n",
       " (['red', 'blazing', 'setting', 'the'], 'dis'),\n",
       " ([], 'dis'),\n",
       " (['wish', 'the', 'sky', 'above', 'send'], 'n_dis'),\n",
       " (['out', 'the', 'screamed'], 'n_dis'),\n",
       " (['the'], 'dis'),\n",
       " (['the'], 'dis'),\n",
       " ([], 'dis'),\n",
       " (['the', 'were', 'called', 'says', 'the', 'the'], 'dis'),\n",
       " ([], 'n_dis'),\n",
       " (['the', 'wrecked'], 'n_dis'),\n",
       " (['you', 'care', 'head', 'destruction', 'not', 'being'], 'n_dis'),\n",
       " ([], 'dis'),\n",
       " (['something'], 'n_dis'),\n",
       " ([], 'dis'),\n",
       " (['was', 'the', 'survive', 'storm'], 'dis'),\n",
       " (['climate'], 'dis'),\n",
       " ([], 'n_dis'),\n",
       " (['low', 'cause', 'famine', 'means', 'feed'], 'n_dis'),\n",
       " (['famine'], 'dis'),\n",
       " (['cant', 'stop', 'survived'], 'n_dis'),\n",
       " (['the', 'survived', 'the', 'like', 'the'], 'n_dis'),\n",
       " (['seeing'], 'n_dis'),\n",
       " ([], 'dis'),\n",
       " ([], 'n_dis'),\n",
       " (['weird'], 'dis'),\n",
       " (['really'], 'n_dis'),\n",
       " ([], 'n_dis'),\n",
       " (['ask', 'have', 'you', 'read'], 'n_dis'),\n",
       " (['feeling', 'attacked'], 'n_dis'),\n",
       " (['thing', 'exploded', 'heard', 'screams', 'the', 'whole'], 'dis'),\n",
       " (['demolish', 'falling', 'take'], 'n_dis'),\n",
       " (['fixing', 'has', 'say', 'say', 'collapse'], 'n_dis'),\n",
       " ([], 'dis'),\n",
       " ([], 'dis'),\n",
       " (['bags', 'clutch', 'bag', 'cross', 'body', 'bags', 'bag'], 'n_dis'),\n",
       " (['you', 'the'], 'n_dis'),\n",
       " ([], 'dis'),\n",
       " ([], 'dis'),\n",
       " (['close'], 'dis'),\n",
       " (['see', 'falling', 'like', 'blew'], 'dis'),\n",
       " (['like', 'hail'], 'n_dis'),\n",
       " (['name'], 'n_dis'),\n",
       " (['please', 'listen'], 'n_dis'),\n",
       " (['were', 'bleeding', 'kicked', 'looks', 'the', 'back'], 'n_dis'),\n",
       " (['disaster', 'the', 'collapse'], 'dis'),\n",
       " (['say', 'got', 'this', 'thing', 'interesting'], 'n_dis'),\n",
       " (['was', 'the'], 'n_dis'),\n",
       " ([], 'n_dis'),\n",
       " (['the', 'read'], 'n_dis'),\n",
       " (['sunk', 'the', 'crossed', 'head', 'watched'], 'n_dis'),\n",
       " (['debris', 'confirmed'], 'dis'),\n",
       " (['know', 'always', 'return', 'need'], 'n_dis'),\n",
       " (['charged', 'shooting'], 'dis'),\n",
       " (['fire', 'red'], 'n_dis'),\n",
       " ([], 'n_dis'),\n",
       " ([], 'dis'),\n",
       " (['evening', 'you', 'will', 'inundated', 'calls'], 'n_dis'),\n",
       " (['not'], 'n_dis'),\n",
       " (['prevent', 'the', 'have', 'fatalities', 'this'], 'n_dis'),\n",
       " ([], 'dis'),\n",
       " (['reopening', 'following', 'closed'], 'dis'),\n",
       " (['damage', 'enhanced'], 'dis'),\n",
       " (['love', 'will', 'come', 'find', 'blazing', 'wild', 'fires', 'singing'],\n",
       "  'n_dis'),\n",
       " (['thing', 'see', 'standing', 'windstorm'], 'n_dis'),\n",
       " (['the'], 'dis'),\n",
       " (['mentioned', 'the'], 'dis'),\n",
       " (['walk', 'think'], 'n_dis'),\n",
       " (['dead', 'screamed', 'fucking', 'believe'], 'n_dis'),\n",
       " (['thank', 'you', 'thought', 'the', 'blazing'], 'n_dis'),\n",
       " (['goes', 'banned', 'quarantined'], 'n_dis'),\n",
       " (['survived', 'because', 'magic', 'searching', 'the'], 'dis'),\n",
       " (['rescued'], 'dis'),\n",
       " (['back', 'loved', 'the', 'picture', 'like', 'collided', 'like', 'the'],\n",
       "  'n_dis'),\n",
       " (['shift', 'focus', 'cause', 'fire'], 'dis'),\n",
       " ([], 'dis'),\n",
       " ([], 'n_dis'),\n",
       " (['pick'], 'n_dis'),\n",
       " (['killed', 'injured'], 'dis'),\n",
       " (['run', 'fast', 'creates', 'makes', 'look', 'like'], 'n_dis'),\n",
       " (['stops', 'transporting'], 'n_dis'),\n",
       " ([], 'n_dis'),\n",
       " (['plan'], 'dis'),\n",
       " (['got', 'wrecked'], 'n_dis'),\n",
       " ([], 'dis'),\n",
       " (['found', 'because', 'the'], 'n_dis'),\n",
       " ([], 'n_dis'),\n",
       " (['read'], 'n_dis'),\n",
       " (['drowning', 'drowning'], 'n_dis'),\n",
       " (['panicking', 'crying', 'stressed'], 'n_dis'),\n",
       " (['the'], 'dis'),\n",
       " ([], 'dis'),\n",
       " ([], 'dis'),\n",
       " (['has', 'not', 'worn', 'down', 'been'], 'n_dis'),\n",
       " (['have', 'been', 'projected'], 'dis'),\n",
       " ([], 'dis'),\n",
       " (['have', 'got', 'destroyed'], 'n_dis'),\n",
       " (['the', 'the', 'camp', 'kicked'], 'dis'),\n",
       " (['are', 'taking', 'thinks'], 'n_dis'),\n",
       " (['you', 'smash'], 'n_dis'),\n",
       " (['was', 'wreck', 'wanted', 'cry', 'laugh', 'eat'], 'n_dis'),\n",
       " (['read'], 'n_dis'),\n",
       " (['has', 'making', 'see', 'the', 'the', 'find', 'the'], 'n_dis'),\n",
       " (['debris', 'missing'], 'dis'),\n",
       " (['pitch', 'fatality'], 'n_dis'),\n",
       " (['tag', 'like', 'self', 'the'], 'n_dis'),\n",
       " (['die', 'floods', 'affected'], 'dis'),\n",
       " (['the'], 'dis'),\n",
       " ([], 'dis'),\n",
       " (['lies', 'the', 'being', 'the', 'get', 'have'], 'n_dis'),\n",
       " (['recommend'], 'n_dis'),\n",
       " (['the', 'destroyed', 'the', 'caused'], 'dis'),\n",
       " (['buildings', 'involved', 'fire'], 'dis'),\n",
       " ([], 'dis'),\n",
       " (['will', 'the', 'the', 'lives', 'the', 'give'], 'dis'),\n",
       " (['recommend', 'follow', 'send'], 'n_dis'),\n",
       " (['land', 'rescue'], 'dis'),\n",
       " (['have', 'started', 'experiencing', 'terrorist'], 'dis'),\n",
       " (['runs', 'the'], 'n_dis'),\n",
       " (['was', 'all', 'laughing', 'talking', 'panic'], 'n_dis'),\n",
       " ([], 'dis'),\n",
       " (['are', 'lava'], 'dis'),\n",
       " (['okay', 'welcome', 'the', 'you', 'all', 'the', 'storm', 'you'], 'n_dis'),\n",
       " (['because', 'left', 'the', 'toilet'], 'n_dis'),\n",
       " (['will', 'the', 'winds', 'take', 'this'], 'n_dis'),\n",
       " ([], 'n_dis'),\n",
       " (['feels', 'like', 'explode'], 'n_dis'),\n",
       " ([], 'n_dis'),\n",
       " (['asking', 'like', 'the'], 'n_dis'),\n",
       " ([], 'n_dis'),\n",
       " (['have', 'been', 'projected'], 'dis'),\n",
       " (['you', 'prevent'], 'dis'),\n",
       " (['continued', 'being'], 'dis'),\n",
       " (['destroy', 'childhood'], 'n_dis'),\n",
       " (['all', 'you', 'love', 'have', 'been', 'getting', 'the', 'are', 'sending'],\n",
       "  'n_dis'),\n",
       " (['smoke', 'out'], 'n_dis'),\n",
       " (['having', 'this', 'the'], 'n_dis'),\n",
       " (['all', 'the', 'support', 'flooding'], 'dis'),\n",
       " (['speaking'], 'dis'),\n",
       " ([], 'n_dis'),\n",
       " (['videos', 'needs', 'grab', 'minds'], 'n_dis'),\n",
       " (['set', 'become', 'will'], 'dis'),\n",
       " (['head', 'the', 'sunk', 'really', 'know'], 'n_dis'),\n",
       " (['considering', 'the', 'trauma'], 'n_dis'),\n",
       " (['annihilated'], 'n_dis'),\n",
       " ([], 'n_dis'),\n",
       " (['has', 'make', 'the', 'have', 'guys'], 'n_dis'),\n",
       " (['survive', 'see', 'you', 'tomorrow'], 'n_dis'),\n",
       " ([], 'n_dis'),\n",
       " (['face', 'floods', 'hit', 'the'], 'dis'),\n",
       " (['made'], 'dis'),\n",
       " (['post', 'wounds', 'please'], 'n_dis'),\n",
       " (['allows'], 'n_dis'),\n",
       " (['you', 'started', 'blaze', 'the'], 'n_dis'),\n",
       " (['you', 'looking', 'you', 'follow', 'the'], 'n_dis'),\n",
       " (['survive', 'change'], 'n_dis'),\n",
       " ([], 'n_dis'),\n",
       " (['you', 'have', 'plan'], 'n_dis'),\n",
       " (['seeing', 'this', 'mass', 'has', 'like', 'grade'], 'n_dis'),\n",
       " ([], 'n_dis'),\n",
       " (['derailed', 'will', 'get', 'you', 'back', 'track'], 'n_dis'),\n",
       " ([], 'n_dis'),\n",
       " (['the', 'died'], 'dis'),\n",
       " (['wonder', 'will', 'win', 'wondering', 'are'], 'n_dis'),\n",
       " ([], 'dis'),\n",
       " ([], 'dis'),\n",
       " (['going'], 'n_dis'),\n",
       " ([], 'dis'),\n",
       " (['will', 'rule', 'all', 'the'], 'n_dis'),\n",
       " (['breathe', 'sounds', 'like'], 'n_dis'),\n",
       " (['lands', 'the', 'famine', 'wonder'], 'dis'),\n",
       " (['going'], 'dis'),\n",
       " (['mass', 'sanctioned', 'forgiven', 'cause', 'the'], 'dis'),\n",
       " ([], 'n_dis'),\n",
       " (['because', 'have', 'planning', 'hope', 'need'], 'n_dis'),\n",
       " (['say', 'agree'], 'n_dis'),\n",
       " (['the', 'says', 'this', 'lets', 'hit'], 'n_dis'),\n",
       " (['let', 'reduced', 'the', 'shit', 'keeps', 'piling', 'get'], 'n_dis'),\n",
       " (['miss', 'you', 'hope', 'you', 'have'], 'n_dis'),\n",
       " (['please', 'send', 'help', 'the', 'fires'], 'dis'),\n",
       " ([], 'n_dis'),\n",
       " ([], 'n_dis'),\n",
       " (['this', 'goes', 'down', 'desolate', 'been'], 'n_dis'),\n",
       " ([], 'dis'),\n",
       " ([], 'n_dis'),\n",
       " (['flash', 'flooding'], 'dis'),\n",
       " (['needs', 'stop', 'getting'], 'n_dis'),\n",
       " (['will',\n",
       "   'support',\n",
       "   'looting',\n",
       "   'the',\n",
       "   'burning',\n",
       "   'buildings',\n",
       "   'seeing',\n",
       "   'the',\n",
       "   'fight',\n",
       "   'back',\n",
       "   'the',\n",
       "   'was'],\n",
       "  'dis'),\n",
       " ([], 'dis'),\n",
       " (['use', 'was', 'inundated', 'text'], 'n_dis'),\n",
       " (['the'], 'dis'),\n",
       " (['get', 'the', 'were', 'the', 'the'], 'dis'),\n",
       " (['took', 'trying', 'stick'], 'n_dis'),\n",
       " (['evacuation', 'abandoned'], 'n_dis'),\n",
       " (['need'], 'dis'),\n",
       " (['taking', 'dead', 'expected', 'make', 'according', 'the'], 'dis'),\n",
       " (['trapped', 'released'], 'n_dis'),\n",
       " ([], 'dis'),\n",
       " (['want', 'think', 'mention', 'not', 'leads'], 'n_dis'),\n",
       " (['bet'], 'n_dis'),\n",
       " (['please', 'like', 'link'], 'n_dis'),\n",
       " (['hijacking', 'send', 'sound', 'waves'], 'n_dis'),\n",
       " (['fortune'], 'n_dis'),\n",
       " ([], 'n_dis'),\n",
       " (['makes', 'beats', 'comes', 'support', 'obliterate'], 'n_dis'),\n",
       " (['attack'], 'dis'),\n",
       " (['this', 'based'], 'dis'),\n",
       " ([], 'n_dis'),\n",
       " (['feel', 'the', 'rainstorm'], 'dis'),\n",
       " (['come', 'crash', 'the', 'invited'], 'n_dis'),\n",
       " (['collapse'], 'n_dis'),\n",
       " (['rotten', 'the', 'has', 'live', 'the'], 'n_dis'),\n",
       " (['ooh', 'feel', 'bet', 'the', 'mudslide', 'was'], 'n_dis'),\n",
       " (['burning'], 'n_dis'),\n",
       " (['the'], 'n_dis'),\n",
       " (['name', 'all', 'the'], 'dis'),\n",
       " (['profit', 'rises', 'disaster', 'claims'], 'dis'),\n",
       " (['like', 'you', 'want', 'ruin'], 'n_dis'),\n",
       " (['worked', 'get', 'going', 'let', 'the', 'was', 'going'], 'n_dis'),\n",
       " (['have', 'been', 'burst', 'collapsed', 'was'], 'dis'),\n",
       " (['control'], 'n_dis'),\n",
       " ([], 'n_dis'),\n",
       " (['blew', 'the'], 'n_dis'),\n",
       " (['crews', 'have', 'evacuated', 'were'], 'dis'),\n",
       " ([], 'n_dis'),\n",
       " ([], 'n_dis'),\n",
       " (['picking', 'are', 'searching', 'the'], 'dis'),\n",
       " (['fighting', 'the'], 'n_dis'),\n",
       " (['curfew', 'will', 'start'], 'n_dis'),\n",
       " (['had', 'alone', 'the', 'almost', 'the', 'deluged'], 'n_dis'),\n",
       " (['was', 'was', 'the', 'got'], 'dis'),\n",
       " (['has', 'been', 'deluged', 'the'], 'n_dis'),\n",
       " (['not', 'extreme', 'lightning', 'pretty', 'all'], 'n_dis'),\n",
       " (['battling',\n",
       "   'pulling',\n",
       "   'you',\n",
       "   'out',\n",
       "   'the',\n",
       "   'burning',\n",
       "   'buildings',\n",
       "   'you',\n",
       "   'say',\n",
       "   'give',\n",
       "   'you',\n",
       "   'you',\n",
       "   'come'],\n",
       "  'n_dis'),\n",
       " (['has', 'crashed', 'the'], 'n_dis'),\n",
       " (['out'], 'dis'),\n",
       " (['crush'], 'n_dis'),\n",
       " (['feared', 'killed', 'crash'], 'dis'),\n",
       " ([], 'dis'),\n",
       " (['pick'], 'n_dis'),\n",
       " (['attack', 'police', 'post', 'tonight', 'attacked'], 'dis'),\n",
       " (['try', 'raid', 'police', 'armed', 'surrounded', 'the'], 'dis'),\n",
       " (['giving'], 'dis'),\n",
       " (['the', 'windstorm', 'blew', 'thru', 'open', 'suffering'], 'n_dis'),\n",
       " (['does', 'electrocute', 'charging'], 'n_dis'),\n",
       " (['include'], 'n_dis'),\n",
       " (['leave', 'probe', 'post', 'putting', 'police'], 'n_dis'),\n",
       " (['extends', 'flooding'], 'dis'),\n",
       " (['approves'], 'dis'),\n",
       " (['crash', 'this', 'has', 'sparked'], 'n_dis'),\n",
       " (['the'], 'dis'),\n",
       " (['shut', 'down', 'had'], 'dis'),\n",
       " (['answer', 'get', 'collapsed'], 'n_dis'),\n",
       " (['goes', 'banned', 'quarantined'], 'dis'),\n",
       " (['you', 'crashed'], 'n_dis'),\n",
       " (['marks'], 'dis'),\n",
       " (['drown', 'are'], 'n_dis'),\n",
       " (['ablaze'], 'dis'),\n",
       " ([], 'dis'),\n",
       " (['the', 'bloody', 'hell'], 'n_dis'),\n",
       " (['thought', 'wtf', 'will', 'have', 'flash'], 'dis'),\n",
       " (['are', 'causing'], 'n_dis'),\n",
       " ([], 'n_dis'),\n",
       " (['love', 'the'], 'n_dis'),\n",
       " ([], 'n_dis'),\n",
       " (['goes', 'banned', 'quarantined'], 'n_dis'),\n",
       " (['the'], 'n_dis'),\n",
       " (['died'], 'n_dis'),\n",
       " ([], 'n_dis'),\n",
       " (['was', 'haha', 'used', 'shit', 'understand', 'survived'], 'n_dis'),\n",
       " ([], 'n_dis'),\n",
       " (['has', 'issued', 'evacuation', 'the', 'info'], 'dis'),\n",
       " (['released'], 'dis'),\n",
       " ([], 'n_dis'),\n",
       " (['delete', 'this', 'not', 'the', 'the'], 'n_dis'),\n",
       " (['the', 'the'], 'dis'),\n",
       " (['calm', 'myself', 'turn', 'the', 'wait', 'the'], 'n_dis'),\n",
       " (['kills'], 'n_dis'),\n",
       " ([], 'n_dis'),\n",
       " (['think', 'hit', 'the', 'panic'], 'n_dis'),\n",
       " (['get', 'wreck', 'blocked'], 'dis'),\n",
       " ([], 'n_dis'),\n",
       " (['rains', 'flash'], 'dis'),\n",
       " ([], 'n_dis'),\n",
       " (['has', 'forever', 'the', 'bombed'], 'dis'),\n",
       " (['demolish'], 'n_dis'),\n",
       " ([], 'dis'),\n",
       " ([], 'n_dis'),\n",
       " (['shit'], 'n_dis'),\n",
       " (['have', 'beat', 'like'], 'n_dis'),\n",
       " (['the'], 'dis'),\n",
       " (['the', 'leaving', 'the', 'the', 'was', 'reduced'], 'n_dis'),\n",
       " (['back', 'commercial', 'had'], 'n_dis'),\n",
       " (['sinkhole', 'swallows'], 'dis'),\n",
       " (['have', 'you', 'gotten', 'the', 'playing'], 'n_dis'),\n",
       " (['causes', 'are', 'will', 'not'], 'n_dis'),\n",
       " ([], 'dis'),\n",
       " (['drill', 'fire', 'open', 'got', 'smash', 'the', 'release', 'glass'],\n",
       "  'n_dis'),\n",
       " (['out', 'out', 'are'], 'dis'),\n",
       " ([], 'dis'),\n",
       " (['the'], 'n_dis'),\n",
       " (['hang', 'yeah', 'face', 'lies', 'explode'], 'n_dis'),\n",
       " ([], 'dis'),\n",
       " (['you', 'like'], 'n_dis'),\n",
       " (['back', 'the'], 'dis'),\n",
       " (['making', 'collided', 'the', 'force', 'not', 'the'], 'n_dis'),\n",
       " (['you', 'search', 'the', 'the', 'burn'], 'n_dis'),\n",
       " (['saving'], 'dis'),\n",
       " (['displaced'], 'n_dis'),\n",
       " (['have', 'spilled'], 'dis'),\n",
       " ([], 'dis'),\n",
       " (['houses', 'were', 'damaged'], 'dis'),\n",
       " ([], 'n_dis'),\n",
       " (['dead', 'were', 'killed', 'injured', 'collided'], 'dis'),\n",
       " ([], 'n_dis'),\n",
       " ([], 'n_dis'),\n",
       " ([], 'n_dis'),\n",
       " (['look', 'like', 'get', 'electrocuted', 'blow', 'hair', 'really'], 'n_dis'),\n",
       " ([], 'dis'),\n",
       " (['hair', 'the', 'need', 'get', 'the', 'gets'], 'n_dis'),\n",
       " ([], 'dis'),\n",
       " ([], 'dis'),\n",
       " (['think', 'the', 'being', 'has', 'really', 'sunk'], 'n_dis'),\n",
       " (['rescued', 'you', 'actually', 'are', 'not', 'you', 'you'], 'n_dis'),\n",
       " (['like', 'think', 'see', 'think', 'myself'], 'n_dis'),\n",
       " (['beat', 'police', 'storm', 'building'], 'dis'),\n",
       " (['killed', 'suicide', 'bombing', 'suicide', 'attacked'], 'dis'),\n",
       " (['wrecked'], 'dis'),\n",
       " (['was', 'bang', 'check', 'find', 'dad', 'the', 'the', 'was', 'sitting'],\n",
       "  'n_dis'),\n",
       " ([], 'n_dis'),\n",
       " ([], 'dis'),\n",
       " (['feel', 'like', 'panicking', 'get', 'back', 'calm'], 'n_dis'),\n",
       " (['shooting', 'expected', 'mass'], 'dis'),\n",
       " (['not', 'suspected'], 'dis'),\n",
       " (['look', 'like', 'mass'], 'n_dis'),\n",
       " (['are', 'deluged', 'yours', 'stand', 'out', 'rise', 'the', 'the'], 'n_dis'),\n",
       " (['recalls'], 'dis'),\n",
       " (['covered', 'police', 'detained'], 'n_dis'),\n",
       " (['endures', 'capture'], 'n_dis'),\n",
       " (['the', 'are', 'all', 'child'], 'n_dis'),\n",
       " (['does', 'have', 'ruin', 'something', 'actually', 'going'], 'n_dis'),\n",
       " (['the'], 'dis'),\n",
       " (['thing',\n",
       "   'out',\n",
       "   'watching',\n",
       "   'the',\n",
       "   'too',\n",
       "   'traumatised',\n",
       "   'watch',\n",
       "   'show',\n",
       "   'started'],\n",
       "  'dis'),\n",
       " (['need'], 'n_dis'),\n",
       " ([], 'n_dis'),\n",
       " (['hell'], 'n_dis'),\n",
       " (['buildings', 'are', 'reported', 'fire', 'close'], 'dis'),\n",
       " (['you', 'see', 'the', 'are', 'the', 'see'], 'n_dis'),\n",
       " (['the'], 'dis'),\n",
       " (['fight'], 'n_dis'),\n",
       " ([], 'n_dis'),\n",
       " (['you', 'feel', 'like', 'you', 'are', 'sinking', 'low', 'the'], 'dis'),\n",
       " ([], 'n_dis'),\n",
       " (['remain', 'falling', 'tree', 'runs', 'the', 'remains', 'close'], 'dis'),\n",
       " ([], 'n_dis'),\n",
       " (['think', 'things'], 'n_dis'),\n",
       " ([], 'dis'),\n",
       " ([], 'n_dis'),\n",
       " (['look', 'has', 'done', 'have', 'will', 'have', 'like'], 'n_dis'),\n",
       " (['got', 'bombed'], 'n_dis'),\n",
       " (['kinda'], 'n_dis'),\n",
       " (['the', 'took', 'place'], 'n_dis'),\n",
       " (['the', 'know', 'baby'], 'n_dis'),\n",
       " ([], 'dis'),\n",
       " (['you', 'move', 'like', 'rainstorm'], 'dis'),\n",
       " (['all', 'lives', 'not', 'burning', 'down', 'buildings', 'stealing'], 'dis'),\n",
       " ([], 'n_dis'),\n",
       " (['fires', 'the', 'fuck', 'hell'], 'dis'),\n",
       " (['has', 'donate', 'runs', 'burning', 'buildings', 'save'], 'dis'),\n",
       " (['respond', 'fire'], 'dis'),\n",
       " (['fires', 'back', 'lose', 'because', 'like'], 'n_dis'),\n",
       " (['are', 'the'], 'n_dis'),\n",
       " (['drowning', 'wash', 'you', 'out'], 'n_dis'),\n",
       " (['the', 'tops', 'was', 'believe'], 'dis'),\n",
       " (['eating', 'drinking', 'not', 'the', 'the', 'well'], 'n_dis'),\n",
       " (['the'], 'n_dis'),\n",
       " (['trapped', 'released'], 'n_dis'),\n",
       " ([], 'dis'),\n",
       " (['the'], 'dis'),\n",
       " (['the'], 'dis'),\n",
       " (['closed'], 'dis'),\n",
       " (['are', 'are', 'wondering', 'survived'], 'n_dis'),\n",
       " ([], 'dis'),\n",
       " ([], 'dis'),\n",
       " (['watch', 'the', 'has', 'always', 'hated', 'the', 'want'], 'dis'),\n",
       " (['the'], 'dis'),\n",
       " ([], 'dis'),\n",
       " (['collapse', 'continues'], 'dis'),\n",
       " (['lead', 'nail'], 'n_dis'),\n",
       " ([], 'dis'),\n",
       " (['talk'], 'n_dis'),\n",
       " (['missing'], 'dis'),\n",
       " ([], 'n_dis'),\n",
       " ([], 'dis'),\n",
       " ([], 'dis'),\n",
       " ([], 'n_dis'),\n",
       " ([], 'n_dis'),\n",
       " (['are', 'being', 'evacuation', 'place', 'are', 'expected'], 'dis'),\n",
       " (['not', 'head', 'wounds', 'the'], 'n_dis'),\n",
       " (['hear', 'the'], 'n_dis'),\n",
       " ([], 'n_dis'),\n",
       " (['see'], 'dis'),\n",
       " (['you', 'scared', 'have', 'drought', 'like', 'you'], 'n_dis'),\n",
       " (['the'], 'dis'),\n",
       " (['ruin', 'the'], 'n_dis'),\n",
       " (['making', 'watch', 'facts', 'want', 'fall', 'help'], 'n_dis'),\n",
       " (['confirms', 'debris'], 'dis'),\n",
       " (['killed', 'the'], 'n_dis'),\n",
       " (['you', 'see', 'crush', 'the'], 'n_dis'),\n",
       " (['all', 'will', 'body', 'bags', 'the', 'grab', 'because', 'were', 'die'],\n",
       "  'n_dis'),\n",
       " (['will', 'ship', 'pathogens'], 'n_dis'),\n",
       " (['bombed', 'out', 'the', 'taking'], 'n_dis'),\n",
       " (['was', 'fired'], 'dis'),\n",
       " ([], 'dis'),\n",
       " (['feared', 'killed', 'crash'], 'dis'),\n",
       " (['dead', 'the', 'pandemonium', 'the'], 'n_dis'),\n",
       " (['police', 'investigating', 'fatality', 'hit'], 'dis'),\n",
       " (['mass'], 'dis'),\n",
       " ([], 'n_dis'),\n",
       " (['was', 'love', 'back'], 'n_dis'),\n",
       " (['has', 'acts', 'has', 'serve', 'this'], 'n_dis'),\n",
       " (['bush'], 'n_dis'),\n",
       " (['meltdown', 'the', 'are', 'welcome'], 'n_dis'),\n",
       " (['not', 'crashed'], 'dis'),\n",
       " ([], 'n_dis'),\n",
       " (['destroys', 'not', 'the'], 'dis'),\n",
       " (['had', 'attack', 'bang', 'out', 'was', 'flying', 'the'], 'dis'),\n",
       " (['winds', 'lightning', 'moving'], 'dis'),\n",
       " ([], 'n_dis'),\n",
       " (['refugees'], 'dis'),\n",
       " (['blazing'], 'n_dis'),\n",
       " (['sewing', 'sewing', 'disaster', 'hit'], 'dis'),\n",
       " (['the'], 'dis'),\n",
       " (['paved'], 'n_dis'),\n",
       " (['the', 'the', 'was', 'tied', 'the', 'died'], 'n_dis'),\n",
       " (['wrecked', 'low', 'okay', 'got'], 'n_dis'),\n",
       " (['suspect', 'linked', 'fires', 'caught'], 'dis'),\n",
       " (['traumatised', 'this'], 'n_dis'),\n",
       " (['obliterated', 'head', 'like'], 'n_dis'),\n",
       " (['thinks'], 'n_dis'),\n",
       " (['crash'], 'dis'),\n",
       " (['quarantined'], 'dis'),\n",
       " (['the'], 'dis'),\n",
       " (['had', 'windstorm', 'rain', 'down'], 'dis'),\n",
       " (['land', 'rescue'], 'dis'),\n",
       " (['hope', 'you', 'fall'], 'n_dis'),\n",
       " (['has', 'exacerbated', 'the', 'wild'], 'dis'),\n",
       " (['the'], 'dis'),\n",
       " (['really', 'wants', 'guess', 'tonight'], 'n_dis'),\n",
       " (['have', 'been', 'cancelled', 'expect', 'winds', 'sized', 'hail'], 'dis'),\n",
       " (['say', 'move', 'the'], 'n_dis'),\n",
       " (['the', 'have', 'contributing', 'child'], 'n_dis'),\n",
       " ([], 'n_dis'),\n",
       " (['flattened'], 'n_dis'),\n",
       " (['damage', 'control'], 'dis'),\n",
       " (['crashed'], 'n_dis'),\n",
       " (['demolish'], 'n_dis'),\n",
       " (['reading', 'this', 'fall'], 'n_dis'),\n",
       " (['fire'], 'n_dis'),\n",
       " (['covered', 'the', 'capture', 'terrorist'], 'dis'),\n",
       " (['blocking', 'the'], 'dis'),\n",
       " (['rioting', 'think'], 'dis'),\n",
       " (['attacked', 'completed'], 'dis'),\n",
       " (['are', 'body', 'wreck'], 'n_dis'),\n",
       " ([], 'n_dis'),\n",
       " ([], 'dis'),\n",
       " (['hijacking', 'send', 'sound', 'waves'], 'dis'),\n",
       " (['police', 'arrested', 'child', 'camp'], 'n_dis'),\n",
       " (['fear', 'you', 'will', 'see', 'the', 'see'], 'n_dis'),\n",
       " (['are', 'derail'], 'n_dis'),\n",
       " (['back'], 'dis'),\n",
       " (['wedding', 'meltdown'], 'n_dis'),\n",
       " (['fire', 'the', 'kinda', 'picture'], 'dis'),\n",
       " (['begins', 'mass', 'destruction', 'imported'], 'dis'),\n",
       " (['check'], 'n_dis'),\n",
       " (['crashed', \"'avoiding\", 'landing', 'too', 'down'], 'dis'),\n",
       " (['going', 'say', 'the', 'think', 'will', 'quarantined', 'the'], 'n_dis'),\n",
       " (['hope', 'fall'], 'dis'),\n",
       " ([], 'n_dis'),\n",
       " (['the'], 'dis'),\n",
       " (['listening'], 'n_dis'),\n",
       " ([], 'dis'),\n",
       " ([], 'dis'),\n",
       " (['you', 'see', 'you', 'will', 'see', 'front', 'end', 'dead', 'wont'],\n",
       "  'n_dis'),\n",
       " (['the'], 'dis'),\n",
       " (['the', 'has', 'opened', 'the', 'are', 'displaced'], 'n_dis'),\n",
       " (['not', 'reports', 'fatalities'], 'dis'),\n",
       " ([], 'n_dis'),\n",
       " (['arrested', 'child'], 'n_dis'),\n",
       " ([], 'dis'),\n",
       " (['the'], 'dis'),\n",
       " (['numbered'], 'n_dis'),\n",
       " ([], 'n_dis'),\n",
       " ([], 'n_dis'),\n",
       " ([], 'n_dis'),\n",
       " (['mass'], 'dis'),\n",
       " (['pressure', 'not', 'not', 'survived', 'release'], 'dis'),\n",
       " (['was', 'the', 'leaving', 'disaster', 'the'], 'dis'),\n",
       " (['electrocute'], 'n_dis'),\n",
       " (['guys', 'tree', 'hit', 'lightning', 'drove', 'flooded'], 'dis'),\n",
       " (['the', 'sounds', 'the'], 'n_dis'),\n",
       " ([], 'dis'),\n",
       " (['had', 'have', 'gone', 'really', 'fall'], 'dis'),\n",
       " (['razed', 'wildfire'], 'dis'),\n",
       " (['disaster'], 'dis'),\n",
       " ([], 'dis'),\n",
       " (['save', 'drowned', 'the', 'sort', 'died', 'doing'], 'dis'),\n",
       " (['saw', 'keep', 'bleeding'], 'dis'),\n",
       " (['derail', 'flash', 'flood'], 'dis'),\n",
       " (['the'], 'n_dis'),\n",
       " (['died', 'trapped', 'the', 'knew', 'was'], 'dis'),\n",
       " ([], 'dis'),\n",
       " (['based', 'the'], 'dis'),\n",
       " ([], 'n_dis'),\n",
       " (['sinkhole', 'closes', 'swallows', 'whole'], 'dis'),\n",
       " ([], 'n_dis'),\n",
       " ([], 'dis'),\n",
       " (['hell'], 'n_dis'),\n",
       " (['back', 'hit', 'head', 'was', 'bleeding', 'shit'], 'n_dis'),\n",
       " (['suicide'], 'n_dis'),\n",
       " (['bleeding', 'wild', 'things', 'running', 'the', 'hes', 'work', 'the'],\n",
       "  'n_dis'),\n",
       " ([], 'n_dis'),\n",
       " (['know', 'was', 'evacuated', 'this'], 'dis'),\n",
       " (['the', 'thought', 'flattened', 'you', 'ball'], 'n_dis'),\n",
       " (['happens', 'will', 'fucking', 'fly', 'out', 'tries', 'harm', 'boys'],\n",
       "  'n_dis'),\n",
       " (['the', 'weapon', 'you', 'use', 'change', 'the'], 'n_dis'),\n",
       " (['keep', 'the', 'friends', 'was', 'taken', 'too'], 'n_dis'),\n",
       " ([], 'n_dis'),\n",
       " ([], 'n_dis'),\n",
       " (['the', 'murdered', 'terrorists', 'the', 'suicide', 'bombing'], 'dis'),\n",
       " ([], 'n_dis'),\n",
       " ([], 'n_dis'),\n",
       " (['hijacking', 'send', 'sound', 'waves'], 'dis'),\n",
       " ([], 'dis'),\n",
       " (['yeah',\n",
       "   'almost',\n",
       "   'exploded',\n",
       "   'was',\n",
       "   'using',\n",
       "   'charging',\n",
       "   'shit',\n",
       "   'was',\n",
       "   'almost',\n",
       "   'died'],\n",
       "  'dis'),\n",
       " (['pick'], 'n_dis'),\n",
       " ([], 'n_dis'),\n",
       " (['because', 'all', 'bloody', 'getting', 'out', 'means'], 'n_dis'),\n",
       " ([], 'n_dis'),\n",
       " (['you',\n",
       "   'please',\n",
       "   'explain',\n",
       "   'you',\n",
       "   'are',\n",
       "   'going',\n",
       "   'the',\n",
       "   'bush',\n",
       "   'fires',\n",
       "   'all',\n",
       "   'the'],\n",
       "  'dis'),\n",
       " (['drought'], 'dis'),\n",
       " (['the', 'start'], 'n_dis'),\n",
       " (['the', 'straight', 'opened', 'meltdown', 'had'], 'n_dis'),\n",
       " (['have', 'any', 'not', 'survive'], 'n_dis'),\n",
       " (['find', 'the', 'amongst', 'the', 'loving', 'the', 'the'], 'n_dis'),\n",
       " (['blown', 'lol'], 'n_dis'),\n",
       " (['bombing'], 'dis'),\n",
       " (['you', 'you', 'are', 'will', 'have', 'detonate', 'you'], 'n_dis'),\n",
       " (['take', 'are'], 'dis'),\n",
       " ([], 'dis'),\n",
       " (['downtown'], 'dis'),\n",
       " ([], 'dis'),\n",
       " (['this', 'was', 'remains', 'articles'], 'n_dis'),\n",
       " (['fall', 'hell', 'idc'], 'n_dis'),\n",
       " (['help', 'all', 'suffering', 'the', 'are'], 'dis'),\n",
       " (['the', 'feeling', 'the', 'mudslide', 'live', 'you'], 'n_dis'),\n",
       " ([], 'dis'),\n",
       " (['panicking', 'fast', 'the'], 'n_dis'),\n",
       " (['electrocuted'], 'dis'),\n",
       " (['trapped'], 'n_dis'),\n",
       " (['lie', 'tho', 'stand', 'will', 'always', 'crush'], 'n_dis'),\n",
       " (['not', 'funny', 'review'], 'n_dis'),\n",
       " (['say', 'are', 'are', 'prepared', 'damage'], 'n_dis'),\n",
       " (['had', 'meltdown', 'going', 'miss', 'you', 'are', 'get', 'back'], 'n_dis'),\n",
       " (['storm', 'the'], 'dis'),\n",
       " (['buildings', 'are', 'fire'], 'dis'),\n",
       " ([], 'dis'),\n",
       " (['take', 'make', 'look'], 'dis'),\n",
       " (['all', 'take', 'look', 'review'], 'n_dis'),\n",
       " ([], 'n_dis'),\n",
       " (['panicking', 'down', 'see', 'come'], 'n_dis'),\n",
       " ([], 'dis'),\n",
       " (['back'], 'n_dis'),\n",
       " ([], 'n_dis'),\n",
       " (['you', 'mudslide'], 'n_dis'),\n",
       " (['issued'], 'dis'),\n",
       " (['this', 'photo', 'not'], 'dis'),\n",
       " (['been', 'forever', 'saw', 'this', 'the', 'wave', 'hit', 'like'], 'n_dis'),\n",
       " (['read'], 'n_dis'),\n",
       " (['burst', 'had', 'the'], 'n_dis'),\n",
       " (['really', 'think', 'sold'], 'n_dis'),\n",
       " ([], 'dis'),\n",
       " ([], 'dis'),\n",
       " (['exploded',\n",
       "   'brought',\n",
       "   'the',\n",
       "   'beginning',\n",
       "   \"what's\",\n",
       "   'mentioned',\n",
       "   'the',\n",
       "   'heaven',\n",
       "   'the'],\n",
       "  'n_dis'),\n",
       " (['hailstorm'], 'dis'),\n",
       " (['need', 'you', 'confirm', 'dead', 'cause', 'dont', 'trust'], 'n_dis'),\n",
       " ([], 'n_dis'),\n",
       " (['runs', 'burning', 'buildings', 'living', 'scared', 'hit', 'get'], 'n_dis'),\n",
       " (['leads', 'shooting'], 'dis'),\n",
       " (['going', 'camp', 'work', 'asking', 'the', 'screamed', 'miss', 'camp'],\n",
       "  'n_dis'),\n",
       " (['has', 'demolish', 'replace', 'will'], 'n_dis'),\n",
       " (['shows'], 'n_dis'),\n",
       " (['seen'], 'dis'),\n",
       " (['wont', 'the', 'will', 'end', 'famine'], 'dis'),\n",
       " (['famine'], 'dis'),\n",
       " ([], 'dis'),\n",
       " (['fast'], 'n_dis'),\n",
       " (['help'], 'n_dis'),\n",
       " (['feed', 'refugees', 'wedding'], 'n_dis'),\n",
       " (['yeah', 'know', 'blaze', 'dont', 'have', 'lol', 'this'], 'n_dis'),\n",
       " (['fire', 'killed', 'caused', 'damaged', 'tree', 'report', 'says', 'the'],\n",
       "  'dis'),\n",
       " (['updated'], 'n_dis'),\n",
       " (['crash', 'this', 'has', 'sparked'], 'n_dis'),\n",
       " (['dead'], 'dis'),\n",
       " ([], 'dis'),\n",
       " (['demolish'], 'n_dis'),\n",
       " (['the', 'type', 'always', 'designed', 'help'], 'n_dis'),\n",
       " (['fight', 'you', 'survive', 'help', 'notice', 'almost', 'seems', 'like'],\n",
       "  'n_dis'),\n",
       " (['says', 'has', 'crashed'], 'dis'),\n",
       " (['the'], 'dis'),\n",
       " (['famine'], 'n_dis'),\n",
       " (['closed'], 'dis'),\n",
       " (['you', 'been', 'held'], 'n_dis'),\n",
       " ([\"'if\", 'you', 'the', 'hell', 'store', 'bought'], 'n_dis'),\n",
       " (['post'], 'dis'),\n",
       " (['escape', 'engulfed', 'crews', 'investigating', 'cause'], 'dis'),\n",
       " (['the', 'warned', 'you'], 'n_dis'),\n",
       " (['you', 'have', 'not', 'been', 'inundated'], 'n_dis'),\n",
       " (['this', 'storm'], 'dis'),\n",
       " (['the', 'the', 'crashed', 'the'], 'dis'),\n",
       " (['the'], 'n_dis'),\n",
       " (['evacuation', 'being', 'recommended', 'this', 'fire', 'says'], 'dis'),\n",
       " (['confirmed', 'storm'], 'dis'),\n",
       " (['the', 'the', 'have', 'worry'], 'dis'),\n",
       " (['lets', 'get', 'picture', 'have', 'the'], 'n_dis'),\n",
       " (['attack'], 'dis'),\n",
       " (['worked', 'the', 'had', 'evacuate', 'because', 'left'], 'n_dis'),\n",
       " (['this', 'has'], 'dis'),\n",
       " ([], 'dis'),\n",
       " (['sinking'], 'n_dis'),\n",
       " (['lol', 'something', 'needed', 'get', 'cast'], 'dis'),\n",
       " (['wreck', 'glad', 'are', 'been', 'the', 'was'], 'n_dis'),\n",
       " (['slip', 'collide'], 'n_dis'),\n",
       " (['give'], 'dis'),\n",
       " ([], 'n_dis'),\n",
       " ([], 'dis'),\n",
       " (['the', 'was', 'wildfires', 'ablaze', 'alone'], 'dis'),\n",
       " ([], 'dis'),\n",
       " (['the', 'follow'], 'n_dis'),\n",
       " (['taking', 'break', 'this', 'has', 'sunk', 'hurts', 'hurts'], 'n_dis'),\n",
       " (['died', 'fall', 'was', 'visit'], 'n_dis'),\n",
       " (['result', 'live', 'the'], 'n_dis'),\n",
       " (['the', 'the', 'had'], 'n_dis'),\n",
       " (['was',\n",
       "   'looking',\n",
       "   'you',\n",
       "   'guys',\n",
       "   'the',\n",
       "   'live',\n",
       "   'the',\n",
       "   'evacuation',\n",
       "   'cost',\n",
       "   'you',\n",
       "   'the'],\n",
       "  'n_dis'),\n",
       " (['got', 'electrocuted', 'this'], 'n_dis'),\n",
       " ([], 'n_dis'),\n",
       " (['rain', 'hail'], 'dis'),\n",
       " (['demolished', 'was', 'upset'], 'dis'),\n",
       " (['love', 'love', 'not', 'crush'], 'n_dis'),\n",
       " (['kills'], 'dis'),\n",
       " (['you', 'ball', 'the', 'ocean'], 'dis'),\n",
       " (['the', 'thing', 'blew'], 'n_dis'),\n",
       " (['the'], 'dis'),\n",
       " ([], 'n_dis'),\n",
       " (['the', 'the'], 'n_dis'),\n",
       " (['bet', 'use', 'all'], 'n_dis'),\n",
       " (['fire'], 'dis'),\n",
       " ([], 'n_dis'),\n",
       " (['gunman', 'had'], 'dis'),\n",
       " (['the'], 'dis'),\n",
       " (['made', 'were', 'not'], 'dis'),\n",
       " (['drove', 'thru', 'flash', 'repair', 'cost'], 'dis'),\n",
       " ([], 'dis'),\n",
       " (['unveiled', 'killed'], 'dis'),\n",
       " (['setting', 'fire', 'bites', 'the', 'shit', 'out'], 'dis'),\n",
       " (['talking', 'was', 'electrocuted'], 'dis'),\n",
       " (['disaster'], 'dis'),\n",
       " (['was', 'got', 'electrocuted', 'lol'], 'n_dis'),\n",
       " (['are', 'hijacking', 'the'], 'dis'),\n",
       " (['the'], 'dis'),\n",
       " (['tragedy', 'live', 'recount', 'saw', 'called'], 'dis'),\n",
       " ([], 'dis'),\n",
       " (['lies', 'rainstorm'], 'dis'),\n",
       " (['seem', 'debris', 'missing'], 'dis'),\n",
       " (['has', 'annihilated', 'the', 'ended', 'compete'], 'n_dis'),\n",
       " (['lightning'], 'n_dis'),\n",
       " (['the'], 'n_dis'),\n",
       " ([], 'dis'),\n",
       " (['buy', 'the', 'going'], 'n_dis'),\n",
       " (['hailstorm'], 'dis'),\n",
       " ([], 'n_dis'),\n",
       " (['causing', 'the', 'sky', 'storm', 'lightning'], 'n_dis'),\n",
       " (['blew'], 'n_dis'),\n",
       " (['out', 'download'], 'n_dis'),\n",
       " (['all', 'collapse'], 'n_dis'),\n",
       " (['the', 'head', 'the', 'taking', 'care'], 'n_dis'),\n",
       " ([], 'dis'),\n",
       " ([], 'n_dis'),\n",
       " (['the', 'will', 'head'], 'n_dis'),\n",
       " (['run', 'burning', 'work'], 'dis'),\n",
       " (['this', 'picture'], 'n_dis'),\n",
       " (['the', 'the', 'unprecedented'], 'n_dis'),\n",
       " (['swimming', 'the', 'dust', 'storm', 'the'], 'dis'),\n",
       " (['the', 'bombing'], 'dis'),\n",
       " (['kills'], 'dis'),\n",
       " (['has', 'activated', 'the', 'stay', 'avoid', 'flooded'], 'dis'),\n",
       " (['the', 'all', 'the'], 'n_dis'),\n",
       " ...]"
      ]
     },
     "execution_count": 446,
     "metadata": {},
     "output_type": "execute_result"
    }
   ],
   "source": [
    "test_data"
   ]
  },
  {
   "cell_type": "code",
   "execution_count": 419,
   "id": "fc7d1eb0",
   "metadata": {},
   "outputs": [
    {
     "name": "stdout",
     "output_type": "stream",
     "text": [
      "['damage', 'fatalities'] dis\n"
     ]
    }
   ],
   "source": [
    "nt_dis_probs = [BayesClassifier(tweet) for tweet in test_tts['not_trag']]\n",
    "dis_probs = []\n",
    "#test_tts['real_trag'] + test_tts['not_trag']\n",
    "for tweet, label in test_data:\n",
    "    if tweet != []:\n",
    "        print(f'Label : {label} , score : { BayesClassifier(tweet) * 100}%  of chance to be about dis ')\n"
   ]
  },
  {
   "cell_type": "code",
   "execution_count": 403,
   "id": "caa2eb35",
   "metadata": {},
   "outputs": [
    {
     "name": "stdout",
     "output_type": "stream",
     "text": [
      " Prob to be a disaster:  min= 2.103614913265325e-29, max = 0.4262725779967159\n"
     ]
    }
   ],
   "source": [
    "# prob de false positive\n",
    "print(\n",
    "    f' Prob to be a disaster:  min= { min(dis_probs)}, max = {max(dis_probs)}')\n"
   ]
  },
  {
   "cell_type": "code",
   "execution_count": 115,
   "id": "7e0a7def",
   "metadata": {},
   "outputs": [],
   "source": [
    "def mean(l): return sum(l)/len(l)\n"
   ]
  },
  {
   "cell_type": "code",
   "execution_count": 116,
   "id": "72a90dab",
   "metadata": {},
   "outputs": [
    {
     "data": {
      "text/plain": [
       "6.026238070315969e-32"
      ]
     },
     "execution_count": 116,
     "metadata": {},
     "output_type": "execute_result"
    }
   ],
   "source": [
    "mean(dis_probs)\n"
   ]
  },
  {
   "cell_type": "code",
   "execution_count": 117,
   "id": "df1dc2b9",
   "metadata": {},
   "outputs": [
    {
     "data": {
      "text/plain": [
       "2.1747906964191553e-14"
      ]
     },
     "execution_count": 117,
     "metadata": {},
     "output_type": "execute_result"
    }
   ],
   "source": [
    "mean(nt_dis_probs)\n"
   ]
  },
  {
   "cell_type": "code",
   "execution_count": 126,
   "id": "17eb4dc9",
   "metadata": {},
   "outputs": [
    {
     "data": {
      "text/plain": [
       "0.003537735849056604"
      ]
     },
     "execution_count": 126,
     "metadata": {},
     "output_type": "execute_result"
    }
   ],
   "source": [
    "nt_dis_probs.count(True)/len(nt_dis_probs)\n"
   ]
  },
  {
   "cell_type": "code",
   "execution_count": null,
   "id": "1f60030a",
   "metadata": {},
   "outputs": [],
   "source": []
  }
 ],
 "metadata": {
  "kernelspec": {
   "display_name": "Python 3",
   "language": "python",
   "name": "python3"
  },
  "language_info": {
   "codemirror_mode": {
    "name": "ipython",
    "version": 3
   },
   "file_extension": ".py",
   "mimetype": "text/x-python",
   "name": "python",
   "nbconvert_exporter": "python",
   "pygments_lexer": "ipython3",
   "version": "3.8.8"
  }
 },
 "nbformat": 4,
 "nbformat_minor": 5
}
